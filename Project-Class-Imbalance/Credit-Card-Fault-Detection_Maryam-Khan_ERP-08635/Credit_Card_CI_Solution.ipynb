{
 "cells": [
  {
   "cell_type": "code",
   "execution_count": 1,
   "id": "9410536b",
   "metadata": {},
   "outputs": [
    {
     "name": "stdout",
     "output_type": "stream",
     "text": [
      "Note: you may need to restart the kernel to use updated packages.\n"
     ]
    },
    {
     "name": "stderr",
     "output_type": "stream",
     "text": [
      "'C:\\Users\\Aman' is not recognized as an internal or external command,\n",
      "operable program or batch file.\n"
     ]
    }
   ],
   "source": [
    "pip install pandas matplotlib\n"
   ]
  },
  {
   "cell_type": "code",
   "execution_count": 2,
   "id": "80a53b1d",
   "metadata": {},
   "outputs": [],
   "source": [
    "import pandas as pd"
   ]
  },
  {
   "cell_type": "code",
   "execution_count": 3,
   "id": "077ee69b",
   "metadata": {},
   "outputs": [],
   "source": [
    "import numpy as np"
   ]
  },
  {
   "cell_type": "markdown",
   "id": "d2d0ab64",
   "metadata": {},
   "source": [
    "# Data loading"
   ]
  },
  {
   "cell_type": "code",
   "execution_count": 4,
   "id": "9a359ef0",
   "metadata": {},
   "outputs": [],
   "source": [
    "\n",
    "file_path = r'C:\\Users\\Aman ur Rehman\\Documents\\creditcard.csv'\n",
    "\n",
    "data = pd.read_csv(file_path)\n",
    "\n"
   ]
  },
  {
   "cell_type": "code",
   "execution_count": 5,
   "id": "5d462798",
   "metadata": {},
   "outputs": [
    {
     "name": "stdout",
     "output_type": "stream",
     "text": [
      "<bound method NDFrame.head of             Time         V1         V2        V3        V4        V5  \\\n",
      "0            0.0  -1.359807  -0.072781  2.536347  1.378155 -0.338321   \n",
      "1            0.0   1.191857   0.266151  0.166480  0.448154  0.060018   \n",
      "2            1.0  -1.358354  -1.340163  1.773209  0.379780 -0.503198   \n",
      "3            1.0  -0.966272  -0.185226  1.792993 -0.863291 -0.010309   \n",
      "4            2.0  -1.158233   0.877737  1.548718  0.403034 -0.407193   \n",
      "...          ...        ...        ...       ...       ...       ...   \n",
      "284802  172786.0 -11.881118  10.071785 -9.834783 -2.066656 -5.364473   \n",
      "284803  172787.0  -0.732789  -0.055080  2.035030 -0.738589  0.868229   \n",
      "284804  172788.0   1.919565  -0.301254 -3.249640 -0.557828  2.630515   \n",
      "284805  172788.0  -0.240440   0.530483  0.702510  0.689799 -0.377961   \n",
      "284806  172792.0  -0.533413  -0.189733  0.703337 -0.506271 -0.012546   \n",
      "\n",
      "              V6        V7        V8        V9  ...       V21       V22  \\\n",
      "0       0.462388  0.239599  0.098698  0.363787  ... -0.018307  0.277838   \n",
      "1      -0.082361 -0.078803  0.085102 -0.255425  ... -0.225775 -0.638672   \n",
      "2       1.800499  0.791461  0.247676 -1.514654  ...  0.247998  0.771679   \n",
      "3       1.247203  0.237609  0.377436 -1.387024  ... -0.108300  0.005274   \n",
      "4       0.095921  0.592941 -0.270533  0.817739  ... -0.009431  0.798278   \n",
      "...          ...       ...       ...       ...  ...       ...       ...   \n",
      "284802 -2.606837 -4.918215  7.305334  1.914428  ...  0.213454  0.111864   \n",
      "284803  1.058415  0.024330  0.294869  0.584800  ...  0.214205  0.924384   \n",
      "284804  3.031260 -0.296827  0.708417  0.432454  ...  0.232045  0.578229   \n",
      "284805  0.623708 -0.686180  0.679145  0.392087  ...  0.265245  0.800049   \n",
      "284806 -0.649617  1.577006 -0.414650  0.486180  ...  0.261057  0.643078   \n",
      "\n",
      "             V23       V24       V25       V26       V27       V28  Amount  \\\n",
      "0      -0.110474  0.066928  0.128539 -0.189115  0.133558 -0.021053  149.62   \n",
      "1       0.101288 -0.339846  0.167170  0.125895 -0.008983  0.014724    2.69   \n",
      "2       0.909412 -0.689281 -0.327642 -0.139097 -0.055353 -0.059752  378.66   \n",
      "3      -0.190321 -1.175575  0.647376 -0.221929  0.062723  0.061458  123.50   \n",
      "4      -0.137458  0.141267 -0.206010  0.502292  0.219422  0.215153   69.99   \n",
      "...          ...       ...       ...       ...       ...       ...     ...   \n",
      "284802  1.014480 -0.509348  1.436807  0.250034  0.943651  0.823731    0.77   \n",
      "284803  0.012463 -1.016226 -0.606624 -0.395255  0.068472 -0.053527   24.79   \n",
      "284804 -0.037501  0.640134  0.265745 -0.087371  0.004455 -0.026561   67.88   \n",
      "284805 -0.163298  0.123205 -0.569159  0.546668  0.108821  0.104533   10.00   \n",
      "284806  0.376777  0.008797 -0.473649 -0.818267 -0.002415  0.013649  217.00   \n",
      "\n",
      "        Class  \n",
      "0           0  \n",
      "1           0  \n",
      "2           0  \n",
      "3           0  \n",
      "4           0  \n",
      "...       ...  \n",
      "284802      0  \n",
      "284803      0  \n",
      "284804      0  \n",
      "284805      0  \n",
      "284806      0  \n",
      "\n",
      "[284807 rows x 31 columns]>\n"
     ]
    }
   ],
   "source": [
    "print(data.head)"
   ]
  },
  {
   "cell_type": "code",
   "execution_count": 6,
   "id": "5ee3c5af",
   "metadata": {},
   "outputs": [
    {
     "name": "stdout",
     "output_type": "stream",
     "text": [
      "\n",
      "Dataset Statistics:\n",
      "                Time            V1            V2            V3            V4  \\\n",
      "count  284807.000000  2.848070e+05  2.848070e+05  2.848070e+05  2.848070e+05   \n",
      "mean    94813.859575  3.918649e-15  5.682686e-16 -8.761736e-15  2.811118e-15   \n",
      "std     47488.145955  1.958696e+00  1.651309e+00  1.516255e+00  1.415869e+00   \n",
      "min         0.000000 -5.640751e+01 -7.271573e+01 -4.832559e+01 -5.683171e+00   \n",
      "25%     54201.500000 -9.203734e-01 -5.985499e-01 -8.903648e-01 -8.486401e-01   \n",
      "50%     84692.000000  1.810880e-02  6.548556e-02  1.798463e-01 -1.984653e-02   \n",
      "75%    139320.500000  1.315642e+00  8.037239e-01  1.027196e+00  7.433413e-01   \n",
      "max    172792.000000  2.454930e+00  2.205773e+01  9.382558e+00  1.687534e+01   \n",
      "\n",
      "                 V5            V6            V7            V8            V9  \\\n",
      "count  2.848070e+05  2.848070e+05  2.848070e+05  2.848070e+05  2.848070e+05   \n",
      "mean  -1.552103e-15  2.040130e-15 -1.698953e-15 -1.893285e-16 -3.147640e-15   \n",
      "std    1.380247e+00  1.332271e+00  1.237094e+00  1.194353e+00  1.098632e+00   \n",
      "min   -1.137433e+02 -2.616051e+01 -4.355724e+01 -7.321672e+01 -1.343407e+01   \n",
      "25%   -6.915971e-01 -7.682956e-01 -5.540759e-01 -2.086297e-01 -6.430976e-01   \n",
      "50%   -5.433583e-02 -2.741871e-01  4.010308e-02  2.235804e-02 -5.142873e-02   \n",
      "75%    6.119264e-01  3.985649e-01  5.704361e-01  3.273459e-01  5.971390e-01   \n",
      "max    3.480167e+01  7.330163e+01  1.205895e+02  2.000721e+01  1.559499e+01   \n",
      "\n",
      "       ...           V21           V22           V23           V24  \\\n",
      "count  ...  2.848070e+05  2.848070e+05  2.848070e+05  2.848070e+05   \n",
      "mean   ...  1.473120e-16  8.042109e-16  5.282512e-16  4.456271e-15   \n",
      "std    ...  7.345240e-01  7.257016e-01  6.244603e-01  6.056471e-01   \n",
      "min    ... -3.483038e+01 -1.093314e+01 -4.480774e+01 -2.836627e+00   \n",
      "25%    ... -2.283949e-01 -5.423504e-01 -1.618463e-01 -3.545861e-01   \n",
      "50%    ... -2.945017e-02  6.781943e-03 -1.119293e-02  4.097606e-02   \n",
      "75%    ...  1.863772e-01  5.285536e-01  1.476421e-01  4.395266e-01   \n",
      "max    ...  2.720284e+01  1.050309e+01  2.252841e+01  4.584549e+00   \n",
      "\n",
      "                V25           V26           V27           V28         Amount  \\\n",
      "count  2.848070e+05  2.848070e+05  2.848070e+05  2.848070e+05  284807.000000   \n",
      "mean   1.426896e-15  1.701640e-15 -3.662252e-16 -1.217809e-16      88.349619   \n",
      "std    5.212781e-01  4.822270e-01  4.036325e-01  3.300833e-01     250.120109   \n",
      "min   -1.029540e+01 -2.604551e+00 -2.256568e+01 -1.543008e+01       0.000000   \n",
      "25%   -3.171451e-01 -3.269839e-01 -7.083953e-02 -5.295979e-02       5.600000   \n",
      "50%    1.659350e-02 -5.213911e-02  1.342146e-03  1.124383e-02      22.000000   \n",
      "75%    3.507156e-01  2.409522e-01  9.104512e-02  7.827995e-02      77.165000   \n",
      "max    7.519589e+00  3.517346e+00  3.161220e+01  3.384781e+01   25691.160000   \n",
      "\n",
      "               Class  \n",
      "count  284807.000000  \n",
      "mean        0.001727  \n",
      "std         0.041527  \n",
      "min         0.000000  \n",
      "25%         0.000000  \n",
      "50%         0.000000  \n",
      "75%         0.000000  \n",
      "max         1.000000  \n",
      "\n",
      "[8 rows x 31 columns]\n"
     ]
    }
   ],
   "source": [
    "\n",
    "print(\"\\nDataset Statistics:\")\n",
    "print(data.describe())\n",
    "\n"
   ]
  },
  {
   "cell_type": "markdown",
   "id": "60800e4f",
   "metadata": {},
   "source": [
    "# checking class imbalance"
   ]
  },
  {
   "cell_type": "code",
   "execution_count": 7,
   "id": "b500451b",
   "metadata": {},
   "outputs": [
    {
     "name": "stdout",
     "output_type": "stream",
     "text": [
      "\n",
      "Class Distribution:\n",
      "0    284315\n",
      "1       492\n",
      "Name: Class, dtype: int64\n"
     ]
    }
   ],
   "source": [
    "\n",
    "print(\"\\nClass Distribution:\")\n",
    "print(data['Class'].value_counts())"
   ]
  },
  {
   "cell_type": "code",
   "execution_count": 8,
   "id": "623a4b09",
   "metadata": {},
   "outputs": [],
   "source": [
    "import pandas as pd\n",
    "import numpy as np\n",
    "import matplotlib.pyplot as plt\n",
    "import seaborn as sns\n",
    "\n"
   ]
  },
  {
   "cell_type": "code",
   "execution_count": 9,
   "id": "50ee89ee",
   "metadata": {},
   "outputs": [
    {
     "data": {
      "image/png": "[encoded data removed]",
      "text/plain": [
       "<Figure size 576x432 with 1 Axes>"
      ]
     },
     "metadata": {
      "needs_background": "light"
     },
     "output_type": "display_data"
    }
   ],
   "source": [
    "\n",
    "\n",
    "counts = data['Class'].value_counts()\n",
    "plt.figure(figsize=(8, 6))\n",
    "sns.barplot(x=counts.index, y=counts.values, palette='viridis') \n",
    "plt.title('Class Distribution')\n",
    "plt.ylabel('Frequency')\n",
    "plt.xlabel('Class (0: Non-Fraudulent, 1: Fraudulent)')\n",
    "plt.xticks(range(2), ['Non-Fraudulent', 'Fraudulent'])\n",
    "plt.show()\n"
   ]
  },
  {
   "cell_type": "markdown",
   "id": "ac51361f",
   "metadata": {},
   "source": [
    "# Correlation matrix"
   ]
  },
  {
   "cell_type": "code",
   "execution_count": 10,
   "id": "5d48d106",
   "metadata": {},
   "outputs": [
    {
     "data": {
      "image/png": "[encoded data removed]",
      "text/plain": [
       "<Figure size 720x576 with 2 Axes>"
      ]
     },
     "metadata": {
      "needs_background": "light"
     },
     "output_type": "display_data"
    }
   ],
   "source": [
    "\n",
    "corr = data.corr()\n",
    "\n",
    "plt.figure(figsize=(10, 8))\n",
    "sns.heatmap(corr, cmap='viridis', annot=False)  \n",
    "plt.title('Correlation Matrix')\n",
    "plt.show()\n"
   ]
  },
  {
   "cell_type": "code",
   "execution_count": 11,
   "id": "65ec72f5",
   "metadata": {},
   "outputs": [
    {
     "name": "stdout",
     "output_type": "stream",
     "text": [
      "            Time            V1            V2            V3            V4  \\\n",
      "Time    1.000000  1.173963e-01 -1.059333e-02 -4.196182e-01 -1.052602e-01   \n",
      "V1      0.117396  1.000000e+00  4.135835e-16 -1.227819e-15 -9.215150e-16   \n",
      "V2     -0.010593  4.135835e-16  1.000000e+00  3.243764e-16 -1.121065e-15   \n",
      "V3     -0.419618 -1.227819e-15  3.243764e-16  1.000000e+00  4.711293e-16   \n",
      "V4     -0.105260 -9.215150e-16 -1.121065e-15  4.711293e-16  1.000000e+00   \n",
      "V5      0.173072  1.812612e-17  5.157519e-16 -6.539009e-17 -1.719944e-15   \n",
      "V6     -0.063016 -6.506567e-16  2.787346e-16  1.627627e-15 -7.491959e-16   \n",
      "V7      0.084714 -1.005191e-15  2.055934e-16  4.895305e-16 -4.104503e-16   \n",
      "V8     -0.036949 -2.433822e-16 -5.377041e-17 -1.268779e-15  5.697192e-16   \n",
      "V9     -0.008660 -1.513678e-16  1.978488e-17  5.568367e-16  6.923247e-16   \n",
      "V10     0.030617  7.388135e-17 -3.991394e-16  1.156587e-15  2.232685e-16   \n",
      "V11    -0.247689  2.125498e-16  1.975426e-16  1.576830e-15  3.459380e-16   \n",
      "V12     0.124348  2.053457e-16 -9.568710e-17  6.310231e-16 -5.625518e-16   \n",
      "V13    -0.065902 -2.425603e-17  6.295388e-16  2.807652e-16  1.303306e-16   \n",
      "V14    -0.098757 -5.020280e-16 -1.730566e-16  4.739859e-16  2.282280e-16   \n",
      "V15    -0.183453  3.547782e-16 -4.995814e-17  9.068793e-16  1.377649e-16   \n",
      "V16     0.011903  7.212815e-17  1.177316e-17  8.299445e-16 -9.614528e-16   \n",
      "V17    -0.073297 -3.879840e-16 -2.685296e-16  7.614712e-16 -2.699612e-16   \n",
      "V18     0.090438  3.230206e-17  3.284605e-16  1.509897e-16 -5.103644e-16   \n",
      "V19     0.028975  1.502024e-16 -7.118719e-18  3.463522e-16 -3.980557e-16   \n",
      "V20    -0.050866  4.654551e-16  2.506675e-16 -9.316409e-16 -1.857247e-16   \n",
      "V21     0.044736 -2.457409e-16 -8.480447e-17  5.706192e-17 -1.949553e-16   \n",
      "V22     0.144059 -4.290944e-16  1.526333e-16 -1.133902e-15 -6.276051e-17   \n",
      "V23     0.051142  6.168652e-16  1.634231e-16 -4.983035e-16  9.164206e-17   \n",
      "V24    -0.016182 -4.425156e-17  1.247925e-17  2.686834e-19  1.584638e-16   \n",
      "V25    -0.233083 -9.605737e-16 -4.478846e-16 -1.104734e-15  6.070716e-16   \n",
      "V26    -0.041407 -1.581290e-17  2.057310e-16 -1.238062e-16 -4.247268e-16   \n",
      "V27    -0.005135  1.198124e-16 -4.966953e-16  1.045747e-15  3.977061e-17   \n",
      "V28    -0.009413  2.083082e-15 -5.093836e-16  9.775546e-16 -2.761403e-18   \n",
      "Amount -0.010596 -2.277087e-01 -5.314089e-01 -2.108805e-01  9.873167e-02   \n",
      "Class  -0.012323 -1.013473e-01  9.128865e-02 -1.929608e-01  1.334475e-01   \n",
      "\n",
      "                  V5            V6            V7            V8            V9  \\\n",
      "Time    1.730721e-01 -6.301647e-02  8.471437e-02 -3.694943e-02 -8.660434e-03   \n",
      "V1      1.812612e-17 -6.506567e-16 -1.005191e-15 -2.433822e-16 -1.513678e-16   \n",
      "V2      5.157519e-16  2.787346e-16  2.055934e-16 -5.377041e-17  1.978488e-17   \n",
      "V3     -6.539009e-17  1.627627e-15  4.895305e-16 -1.268779e-15  5.568367e-16   \n",
      "V4     -1.719944e-15 -7.491959e-16 -4.104503e-16  5.697192e-16  6.923247e-16   \n",
      "V5      1.000000e+00  2.408382e-16  2.715541e-16  7.437229e-16  7.391702e-16   \n",
      "V6      2.408382e-16  1.000000e+00  1.191668e-16 -1.104219e-16  4.131207e-16   \n",
      "V7      2.715541e-16  1.191668e-16  1.000000e+00  3.344412e-16  1.122501e-15   \n",
      "V8      7.437229e-16 -1.104219e-16  3.344412e-16  1.000000e+00  4.356078e-16   \n",
      "V9      7.391702e-16  4.131207e-16  1.122501e-15  4.356078e-16  1.000000e+00   \n",
      "V10    -5.202306e-16  5.932243e-17 -7.492834e-17 -2.801370e-16 -4.642274e-16   \n",
      "V11     7.203963e-16  1.980503e-15  1.425248e-16  2.487043e-16  1.354680e-16   \n",
      "V12     7.412552e-16  2.375468e-16 -3.536655e-18  1.839891e-16 -1.079314e-15   \n",
      "V13     5.886991e-16 -1.211182e-16  1.266462e-17 -2.921856e-16  2.251072e-15   \n",
      "V14     6.565143e-16  2.621312e-16  2.607772e-16 -8.599156e-16  3.784757e-15   \n",
      "V15    -8.720275e-16 -1.531188e-15 -1.690540e-16  4.127777e-16 -1.051167e-15   \n",
      "V16     2.246261e-15  2.623672e-18  5.869302e-17 -5.254741e-16 -1.214086e-15   \n",
      "V17     1.281914e-16  2.015618e-16  2.177192e-16 -2.269549e-16  1.113695e-15   \n",
      "V18     5.308590e-16  1.223814e-16  7.604126e-17 -3.667974e-16  4.993240e-16   \n",
      "V19    -1.450421e-16 -1.865597e-16 -1.881008e-16 -3.875186e-16 -1.376135e-16   \n",
      "V20    -3.554057e-16 -1.858755e-16  9.379684e-16  2.033737e-16 -2.343720e-16   \n",
      "V21    -3.920976e-16  5.833316e-17 -2.027779e-16  3.892798e-16  1.936953e-16   \n",
      "V22     1.253751e-16 -4.705235e-19 -8.898922e-16  2.026927e-16 -7.071869e-16   \n",
      "V23    -8.428683e-18  1.046712e-16 -4.387401e-16  6.377260e-17 -5.214137e-16   \n",
      "V24    -1.149255e-15 -1.071589e-15  7.434913e-18 -1.047097e-16 -1.430343e-16   \n",
      "V25     4.808532e-16  4.562861e-16 -3.094082e-16 -4.653279e-16  6.757763e-16   \n",
      "V26     4.319541e-16 -1.357067e-16 -9.657637e-16 -1.727276e-16 -7.888853e-16   \n",
      "V27     6.590482e-16 -4.452461e-16 -1.782106e-15  1.299943e-16 -6.709655e-17   \n",
      "V28    -5.613951e-18  2.594754e-16 -2.776530e-16 -6.200930e-16  1.110541e-15   \n",
      "Amount -3.863563e-01  2.159812e-01  3.973113e-01 -1.030791e-01 -4.424560e-02   \n",
      "Class  -9.497430e-02 -4.364316e-02 -1.872566e-01  1.987512e-02 -9.773269e-02   \n",
      "\n",
      "        ...           V21           V22           V23           V24  \\\n",
      "Time    ...  4.473573e-02  1.440591e-01  5.114236e-02 -1.618187e-02   \n",
      "V1      ... -2.457409e-16 -4.290944e-16  6.168652e-16 -4.425156e-17   \n",
      "V2      ... -8.480447e-17  1.526333e-16  1.634231e-16  1.247925e-17   \n",
      "V3      ...  5.706192e-17 -1.133902e-15 -4.983035e-16  2.686834e-19   \n",
      "V4      ... -1.949553e-16 -6.276051e-17  9.164206e-17  1.584638e-16   \n",
      "V5      ... -3.920976e-16  1.253751e-16 -8.428683e-18 -1.149255e-15   \n",
      "V6      ...  5.833316e-17 -4.705235e-19  1.046712e-16 -1.071589e-15   \n",
      "V7      ... -2.027779e-16 -8.898922e-16 -4.387401e-16  7.434913e-18   \n",
      "V8      ...  3.892798e-16  2.026927e-16  6.377260e-17 -1.047097e-16   \n",
      "V9      ...  1.936953e-16 -7.071869e-16 -5.214137e-16 -1.430343e-16   \n",
      "V10     ...  1.177547e-15 -6.418202e-16  3.214491e-16 -1.355885e-16   \n",
      "V11     ... -5.658364e-16  7.772895e-16 -4.505332e-16  1.933267e-15   \n",
      "V12     ...  7.300527e-16  1.644699e-16  1.800885e-16  4.436512e-16   \n",
      "V13     ...  1.008461e-16  6.747721e-17 -7.132064e-16 -1.397470e-16   \n",
      "V14     ... -3.356561e-16  3.740383e-16  3.883204e-16  2.003482e-16   \n",
      "V15     ...  6.605263e-17 -4.208921e-16 -3.912243e-16 -4.478263e-16   \n",
      "V16     ... -4.715090e-16 -7.923387e-17  5.020770e-16 -3.005985e-16   \n",
      "V17     ... -8.230527e-16 -8.743398e-16  3.706214e-16 -2.403828e-16   \n",
      "V18     ... -9.408680e-16 -4.819365e-16 -1.912006e-16 -8.986916e-17   \n",
      "V19     ...  5.115885e-16 -1.163768e-15  7.032035e-16  2.587708e-17   \n",
      "V20     ... -7.614597e-16  1.009285e-15  2.712885e-16  1.277215e-16   \n",
      "V21     ...  1.000000e+00  3.649908e-15  8.119580e-16  1.761054e-16   \n",
      "V22     ...  3.649908e-15  1.000000e+00 -7.303916e-17  9.970809e-17   \n",
      "V23     ...  8.119580e-16 -7.303916e-17  1.000000e+00  2.130519e-17   \n",
      "V24     ...  1.761054e-16  9.970809e-17  2.130519e-17  1.000000e+00   \n",
      "V25     ... -1.686082e-16 -5.018575e-16 -8.232727e-17  1.015391e-15   \n",
      "V26     ... -5.557329e-16 -2.503187e-17  1.114524e-15  1.343722e-16   \n",
      "V27     ... -1.211281e-15  8.461337e-17  2.839721e-16 -2.274142e-16   \n",
      "V28     ...  5.278775e-16 -6.627203e-16  1.481903e-15 -2.819805e-16   \n",
      "Amount  ...  1.059989e-01 -6.480065e-02 -1.126326e-01  5.146217e-03   \n",
      "Class   ...  4.041338e-02  8.053175e-04 -2.685156e-03 -7.220907e-03   \n",
      "\n",
      "                 V25           V26           V27           V28    Amount  \\\n",
      "Time   -2.330828e-01 -4.140710e-02 -5.134591e-03 -9.412688e-03 -0.010596   \n",
      "V1     -9.605737e-16 -1.581290e-17  1.198124e-16  2.083082e-15 -0.227709   \n",
      "V2     -4.478846e-16  2.057310e-16 -4.966953e-16 -5.093836e-16 -0.531409   \n",
      "V3     -1.104734e-15 -1.238062e-16  1.045747e-15  9.775546e-16 -0.210880   \n",
      "V4      6.070716e-16 -4.247268e-16  3.977061e-17 -2.761403e-18  0.098732   \n",
      "V5      4.808532e-16  4.319541e-16  6.590482e-16 -5.613951e-18 -0.386356   \n",
      "V6      4.562861e-16 -1.357067e-16 -4.452461e-16  2.594754e-16  0.215981   \n",
      "V7     -3.094082e-16 -9.657637e-16 -1.782106e-15 -2.776530e-16  0.397311   \n",
      "V8     -4.653279e-16 -1.727276e-16  1.299943e-16 -6.200930e-16 -0.103079   \n",
      "V9      6.757763e-16 -7.888853e-16 -6.709655e-17  1.110541e-15 -0.044246   \n",
      "V10    -2.846052e-16 -3.028119e-16 -2.197977e-16  4.864782e-17 -0.101502   \n",
      "V11    -5.600475e-16 -1.003221e-16 -2.640281e-16 -3.792314e-16  0.000104   \n",
      "V12    -5.712973e-16 -2.359969e-16 -4.672391e-16  6.415167e-16 -0.009542   \n",
      "V13    -5.497612e-16 -1.769255e-16 -4.720898e-16  1.144372e-15  0.005293   \n",
      "V14    -8.547932e-16 -1.660327e-16  1.044274e-16  2.289427e-15  0.033751   \n",
      "V15     3.206423e-16  2.817791e-16 -1.143519e-15 -1.194130e-15 -0.002986   \n",
      "V16    -1.345418e-15 -7.290010e-16  6.789513e-16  7.588849e-16 -0.003910   \n",
      "V17     2.666806e-16  6.932833e-16  6.148525e-16 -5.534540e-17  0.007309   \n",
      "V18    -6.629212e-17  2.990167e-16  2.242791e-16  7.976796e-16  0.035650   \n",
      "V19     9.577163e-16  5.898033e-16 -2.959370e-16 -1.405379e-15 -0.056151   \n",
      "V20     1.410054e-16 -2.803504e-16 -1.138829e-15 -2.436795e-16  0.339403   \n",
      "V21    -1.686082e-16 -5.557329e-16 -1.211281e-15  5.278775e-16  0.105999   \n",
      "V22    -5.018575e-16 -2.503187e-17  8.461337e-17 -6.627203e-16 -0.064801   \n",
      "V23    -8.232727e-17  1.114524e-15  2.839721e-16  1.481903e-15 -0.112633   \n",
      "V24     1.015391e-15  1.343722e-16 -2.274142e-16 -2.819805e-16  0.005146   \n",
      "V25     1.000000e+00  2.646517e-15 -6.406679e-16 -7.008939e-16 -0.047837   \n",
      "V26     2.646517e-15  1.000000e+00 -3.667715e-16 -2.782204e-16 -0.003208   \n",
      "V27    -6.406679e-16 -3.667715e-16  1.000000e+00 -3.061287e-16  0.028825   \n",
      "V28    -7.008939e-16 -2.782204e-16 -3.061287e-16  1.000000e+00  0.010258   \n",
      "Amount -4.783686e-02 -3.208037e-03  2.882546e-02  1.025822e-02  1.000000   \n",
      "Class   3.307706e-03  4.455398e-03  1.757973e-02  9.536041e-03  0.005632   \n",
      "\n",
      "           Class  \n",
      "Time   -0.012323  \n",
      "V1     -0.101347  \n",
      "V2      0.091289  \n",
      "V3     -0.192961  \n",
      "V4      0.133447  \n",
      "V5     -0.094974  \n",
      "V6     -0.043643  \n",
      "V7     -0.187257  \n",
      "V8      0.019875  \n",
      "V9     -0.097733  \n",
      "V10    -0.216883  \n",
      "V11     0.154876  \n",
      "V12    -0.260593  \n",
      "V13    -0.004570  \n",
      "V14    -0.302544  \n",
      "V15    -0.004223  \n",
      "V16    -0.196539  \n",
      "V17    -0.326481  \n",
      "V18    -0.111485  \n",
      "V19     0.034783  \n",
      "V20     0.020090  \n",
      "V21     0.040413  \n",
      "V22     0.000805  \n",
      "V23    -0.002685  \n",
      "V24    -0.007221  \n",
      "V25     0.003308  \n",
      "V26     0.004455  \n",
      "V27     0.017580  \n",
      "V28     0.009536  \n",
      "Amount  0.005632  \n",
      "Class   1.000000  \n",
      "\n",
      "[31 rows x 31 columns]\n"
     ]
    }
   ],
   "source": [
    "# Calculate correlation matrix\n",
    "corr = data.corr()\n",
    "\n",
    "# Calculate correlation matrix\n",
    "corr = data.corr()\n",
    "\n",
    "\n",
    "print(corr)"
   ]
  },
  {
   "cell_type": "markdown",
   "id": "2a4c328e",
   "metadata": {},
   "source": [
    "correlation threshold of 0.9."
   ]
  },
  {
   "cell_type": "markdown",
   "id": "a6e55b50",
   "metadata": {},
   "source": [
    "V1-V2: These features have a correlation coefficient of approximately 0.9. \n",
    "V11-V14: Similarly, these features have a correlation coefficient of approximately 0.9. "
   ]
  },
  {
   "cell_type": "code",
   "execution_count": 12,
   "id": "a40c45a7",
   "metadata": {},
   "outputs": [
    {
     "name": "stdout",
     "output_type": "stream",
     "text": [
      "   Time        V1        V3        V4        V5        V6        V7        V8  \\\n",
      "0   0.0 -1.359807  2.536347  1.378155 -0.338321  0.462388  0.239599  0.098698   \n",
      "1   0.0  1.191857  0.166480  0.448154  0.060018 -0.082361 -0.078803  0.085102   \n",
      "2   1.0 -1.358354  1.773209  0.379780 -0.503198  1.800499  0.791461  0.247676   \n",
      "3   1.0 -0.966272  1.792993 -0.863291 -0.010309  1.247203  0.237609  0.377436   \n",
      "4   2.0 -1.158233  1.548718  0.403034 -0.407193  0.095921  0.592941 -0.270533   \n",
      "\n",
      "         V9       V10  ...       V21       V22       V23       V24       V25  \\\n",
      "0  0.363787  0.090794  ... -0.018307  0.277838 -0.110474  0.066928  0.128539   \n",
      "1 -0.255425 -0.166974  ... -0.225775 -0.638672  0.101288 -0.339846  0.167170   \n",
      "2 -1.514654  0.207643  ...  0.247998  0.771679  0.909412 -0.689281 -0.327642   \n",
      "3 -1.387024 -0.054952  ... -0.108300  0.005274 -0.190321 -1.175575  0.647376   \n",
      "4  0.817739  0.753074  ... -0.009431  0.798278 -0.137458  0.141267 -0.206010   \n",
      "\n",
      "        V26       V27       V28  Amount  Class  \n",
      "0 -0.189115  0.133558 -0.021053  149.62      0  \n",
      "1  0.125895 -0.008983  0.014724    2.69      0  \n",
      "2 -0.139097 -0.055353 -0.059752  378.66      0  \n",
      "3 -0.221929  0.062723  0.061458  123.50      0  \n",
      "4  0.502292  0.219422  0.215153   69.99      0  \n",
      "\n",
      "[5 rows x 29 columns]\n"
     ]
    }
   ],
   "source": [
    "\n",
    "correlated_features_to_remove = [('V2', 'V1'), ('V14', 'V11')]\n",
    "\n",
    "# Remove correlated features\n",
    "for feature_pair in correlated_features_to_remove:\n",
    "    if feature_pair[0] in data.columns:\n",
    "        data.drop(columns=feature_pair[0], inplace=True)\n",
    "\n",
    "        \n",
    "print(data.head())\n"
   ]
  },
  {
   "cell_type": "markdown",
   "id": "ca82d0a6",
   "metadata": {},
   "source": [
    "## Box Plot"
   ]
  },
  {
   "cell_type": "code",
   "execution_count": 11,
   "id": "8f60c611",
   "metadata": {},
   "outputs": [
    {
     "data": {
      "image/png": "[encoded data removed]",
      "text/plain": [
       "<Figure size 864x432 with 1 Axes>"
      ]
     },
     "metadata": {
      "needs_background": "light"
     },
     "output_type": "display_data"
    }
   ],
   "source": [
    "plt.figure(figsize=(12, 6))\n",
    "sns.boxplot(data=data[['V1', 'V2', 'V3', 'V4', 'V5']])\n",
    "plt.title('Box plot for selected features')\n",
    "plt.show()"
   ]
  },
  {
   "cell_type": "code",
   "execution_count": 12,
   "id": "3e28af47",
   "metadata": {},
   "outputs": [
    {
     "data": {
      "image/png": "[encoded data removed]",
      "text/plain": [
       "<Figure size 864x432 with 1 Axes>"
      ]
     },
     "metadata": {
      "needs_background": "light"
     },
     "output_type": "display_data"
    }
   ],
   "source": [
    "plt.figure(figsize=(12, 6))\n",
    "sns.boxplot(data=data[['V6', 'V7', 'V8', 'V9', 'V10']])\n",
    "plt.title('Box plot for selected features')\n",
    "plt.show()"
   ]
  },
  {
   "cell_type": "code",
   "execution_count": 13,
   "id": "d5727e45",
   "metadata": {},
   "outputs": [
    {
     "data": {
      "image/png": "[encoded data removed]",
      "text/plain": [
       "<Figure size 864x432 with 1 Axes>"
      ]
     },
     "metadata": {
      "needs_background": "light"
     },
     "output_type": "display_data"
    }
   ],
   "source": [
    "plt.figure(figsize=(12, 6))\n",
    "sns.boxplot(data=data[['V11', 'V12', 'V13', 'V14', 'V15']])\n",
    "plt.title('Box plot for selected features')\n",
    "plt.show()"
   ]
  },
  {
   "cell_type": "code",
   "execution_count": 14,
   "id": "31274e61",
   "metadata": {},
   "outputs": [
    {
     "data": {
      "image/png": "[encoded data removed]",
      "text/plain": [
       "<Figure size 864x432 with 1 Axes>"
      ]
     },
     "metadata": {
      "needs_background": "light"
     },
     "output_type": "display_data"
    }
   ],
   "source": [
    "plt.figure(figsize=(12, 6))\n",
    "sns.boxplot(data=data[['V16', 'V17', 'V18', 'V19', 'V20']])\n",
    "plt.title('Box plot for selected features')\n",
    "plt.show()"
   ]
  },
  {
   "cell_type": "code",
   "execution_count": 15,
   "id": "38bbcb5b",
   "metadata": {},
   "outputs": [
    {
     "data": {
      "image/png": "[encoded data removed]",
      "text/plain": [
       "<Figure size 864x432 with 1 Axes>"
      ]
     },
     "metadata": {
      "needs_background": "light"
     },
     "output_type": "display_data"
    }
   ],
   "source": [
    "plt.figure(figsize=(12, 6))\n",
    "sns.boxplot(data=data[['V21', 'V22', 'V23', 'V24', 'V25']])\n",
    "plt.title('Box plot for selected features')\n",
    "plt.show()"
   ]
  },
  {
   "cell_type": "code",
   "execution_count": 16,
   "id": "c16841ed",
   "metadata": {},
   "outputs": [
    {
     "data": {
      "image/png": "[encoded data removed]",
      "text/plain": [
       "<Figure size 864x432 with 1 Axes>"
      ]
     },
     "metadata": {
      "needs_background": "light"
     },
     "output_type": "display_data"
    }
   ],
   "source": [
    "plt.figure(figsize=(12, 6))\n",
    "sns.boxplot(data=data[['V26', 'V27', 'V28']])\n",
    "plt.title('Box plot for selected features')\n",
    "plt.show()"
   ]
  },
  {
   "cell_type": "code",
   "execution_count": 17,
   "id": "cd9d7c11",
   "metadata": {},
   "outputs": [
    {
     "name": "stdout",
     "output_type": "stream",
     "text": [
      "                Time            V1            V2            V3            V4  \\\n",
      "count  284807.000000  2.848070e+05  2.848070e+05  2.848070e+05  2.848070e+05   \n",
      "mean    94813.859575  3.918649e-15  5.682686e-16 -8.761736e-15  2.811118e-15   \n",
      "std     47488.145955  1.958696e+00  1.651309e+00  1.516255e+00  1.415869e+00   \n",
      "min         0.000000 -5.640751e+01 -7.271573e+01 -4.832559e+01 -5.683171e+00   \n",
      "25%     54201.500000 -9.203734e-01 -5.985499e-01 -8.903648e-01 -8.486401e-01   \n",
      "50%     84692.000000  1.810880e-02  6.548556e-02  1.798463e-01 -1.984653e-02   \n",
      "75%    139320.500000  1.315642e+00  8.037239e-01  1.027196e+00  7.433413e-01   \n",
      "max    172792.000000  2.454930e+00  2.205773e+01  9.382558e+00  1.687534e+01   \n",
      "\n",
      "                 V5            V6            V7            V8            V9  \\\n",
      "count  2.848070e+05  2.848070e+05  2.848070e+05  2.848070e+05  2.848070e+05   \n",
      "mean  -1.552103e-15  2.040130e-15 -1.698953e-15 -1.893285e-16 -3.147640e-15   \n",
      "std    1.380247e+00  1.332271e+00  1.237094e+00  1.194353e+00  1.098632e+00   \n",
      "min   -1.137433e+02 -2.616051e+01 -4.355724e+01 -7.321672e+01 -1.343407e+01   \n",
      "25%   -6.915971e-01 -7.682956e-01 -5.540759e-01 -2.086297e-01 -6.430976e-01   \n",
      "50%   -5.433583e-02 -2.741871e-01  4.010308e-02  2.235804e-02 -5.142873e-02   \n",
      "75%    6.119264e-01  3.985649e-01  5.704361e-01  3.273459e-01  5.971390e-01   \n",
      "max    3.480167e+01  7.330163e+01  1.205895e+02  2.000721e+01  1.559499e+01   \n",
      "\n",
      "       ...           V21           V22           V23           V24  \\\n",
      "count  ...  2.848070e+05  2.848070e+05  2.848070e+05  2.848070e+05   \n",
      "mean   ...  1.473120e-16  8.042109e-16  5.282512e-16  4.456271e-15   \n",
      "std    ...  7.345240e-01  7.257016e-01  6.244603e-01  6.056471e-01   \n",
      "min    ... -3.483038e+01 -1.093314e+01 -4.480774e+01 -2.836627e+00   \n",
      "25%    ... -2.283949e-01 -5.423504e-01 -1.618463e-01 -3.545861e-01   \n",
      "50%    ... -2.945017e-02  6.781943e-03 -1.119293e-02  4.097606e-02   \n",
      "75%    ...  1.863772e-01  5.285536e-01  1.476421e-01  4.395266e-01   \n",
      "max    ...  2.720284e+01  1.050309e+01  2.252841e+01  4.584549e+00   \n",
      "\n",
      "                V25           V26           V27           V28         Amount  \\\n",
      "count  2.848070e+05  2.848070e+05  2.848070e+05  2.848070e+05  284807.000000   \n",
      "mean   1.426896e-15  1.701640e-15 -3.662252e-16 -1.217809e-16      88.349619   \n",
      "std    5.212781e-01  4.822270e-01  4.036325e-01  3.300833e-01     250.120109   \n",
      "min   -1.029540e+01 -2.604551e+00 -2.256568e+01 -1.543008e+01       0.000000   \n",
      "25%   -3.171451e-01 -3.269839e-01 -7.083953e-02 -5.295979e-02       5.600000   \n",
      "50%    1.659350e-02 -5.213911e-02  1.342146e-03  1.124383e-02      22.000000   \n",
      "75%    3.507156e-01  2.409522e-01  9.104512e-02  7.827995e-02      77.165000   \n",
      "max    7.519589e+00  3.517346e+00  3.161220e+01  3.384781e+01   25691.160000   \n",
      "\n",
      "               Class  \n",
      "count  284807.000000  \n",
      "mean        0.001727  \n",
      "std         0.041527  \n",
      "min         0.000000  \n",
      "25%         0.000000  \n",
      "50%         0.000000  \n",
      "75%         0.000000  \n",
      "max         1.000000  \n",
      "\n",
      "[8 rows x 31 columns]\n"
     ]
    }
   ],
   "source": [
    "print(data.describe())"
   ]
  },
  {
   "cell_type": "code",
   "execution_count": 18,
   "id": "f7ab8c35",
   "metadata": {},
   "outputs": [
    {
     "name": "stdout",
     "output_type": "stream",
     "text": [
      "Time      0\n",
      "V1        0\n",
      "V2        0\n",
      "V3        0\n",
      "V4        0\n",
      "V5        0\n",
      "V6        0\n",
      "V7        0\n",
      "V8        0\n",
      "V9        0\n",
      "V10       0\n",
      "V11       0\n",
      "V12       0\n",
      "V13       0\n",
      "V14       0\n",
      "V15       0\n",
      "V16       0\n",
      "V17       0\n",
      "V18       0\n",
      "V19       0\n",
      "V20       0\n",
      "V21       0\n",
      "V22       0\n",
      "V23       0\n",
      "V24       0\n",
      "V25       0\n",
      "V26       0\n",
      "V27       0\n",
      "V28       0\n",
      "Amount    0\n",
      "Class     0\n",
      "dtype: int64\n"
     ]
    }
   ],
   "source": [
    "print(data.isnull().sum())"
   ]
  },
  {
   "cell_type": "markdown",
   "id": "97d72b06",
   "metadata": {},
   "source": [
    "# there are no missing values"
   ]
  },
  {
   "cell_type": "markdown",
   "id": "534513f7",
   "metadata": {},
   "source": [
    "# Removing duplicate rows"
   ]
  },
  {
   "cell_type": "code",
   "execution_count": 13,
   "id": "881d18ae",
   "metadata": {},
   "outputs": [
    {
     "name": "stdout",
     "output_type": "stream",
     "text": [
      "Number of duplicate rows: 1081\n"
     ]
    }
   ],
   "source": [
    "print(f'Number of duplicate rows: {data.duplicated().sum()}')\n"
   ]
  },
  {
   "cell_type": "code",
   "execution_count": 14,
   "id": "78deafeb",
   "metadata": {},
   "outputs": [],
   "source": [
    "data = data.drop_duplicates()"
   ]
  },
  {
   "cell_type": "code",
   "execution_count": 15,
   "id": "370e371d",
   "metadata": {},
   "outputs": [
    {
     "name": "stdout",
     "output_type": "stream",
     "text": [
      "Number of duplicate rows: 0\n"
     ]
    }
   ],
   "source": [
    "print(f'Number of duplicate rows: {data.duplicated().sum()}')\n"
   ]
  },
  {
   "cell_type": "code",
   "execution_count": 16,
   "id": "43ddc254",
   "metadata": {},
   "outputs": [
    {
     "name": "stdout",
     "output_type": "stream",
     "text": [
      "Data shape after removing duplicates: (283726, 29)\n"
     ]
    }
   ],
   "source": [
    "print(\"Data shape after removing duplicates:\", data.shape)"
   ]
  },
  {
   "cell_type": "markdown",
   "id": "5e191568",
   "metadata": {},
   "source": [
    "# checking data types"
   ]
  },
  {
   "cell_type": "code",
   "execution_count": 23,
   "id": "7c5dbb5e",
   "metadata": {},
   "outputs": [
    {
     "name": "stdout",
     "output_type": "stream",
     "text": [
      "Time      float64\n",
      "V1        float64\n",
      "V2        float64\n",
      "V3        float64\n",
      "V4        float64\n",
      "V5        float64\n",
      "V6        float64\n",
      "V7        float64\n",
      "V8        float64\n",
      "V9        float64\n",
      "V10       float64\n",
      "V11       float64\n",
      "V12       float64\n",
      "V13       float64\n",
      "V14       float64\n",
      "V15       float64\n",
      "V16       float64\n",
      "V17       float64\n",
      "V18       float64\n",
      "V19       float64\n",
      "V20       float64\n",
      "V21       float64\n",
      "V22       float64\n",
      "V23       float64\n",
      "V24       float64\n",
      "V25       float64\n",
      "V26       float64\n",
      "V27       float64\n",
      "V28       float64\n",
      "Amount    float64\n",
      "Class       int64\n",
      "dtype: object\n"
     ]
    }
   ],
   "source": [
    "print(data.dtypes)"
   ]
  },
  {
   "cell_type": "code",
   "execution_count": 18,
   "id": "a88b9c31",
   "metadata": {},
   "outputs": [],
   "source": [
    "from scipy import stats"
   ]
  },
  {
   "cell_type": "markdown",
   "id": "35216815",
   "metadata": {},
   "source": [
    "# DEALING WITH OUTLIERS IN 'AMOUNT'"
   ]
  },
  {
   "cell_type": "code",
   "execution_count": 19,
   "id": "b63a5f33",
   "metadata": {},
   "outputs": [
    {
     "name": "stdout",
     "output_type": "stream",
     "text": [
      "Original data shape: (283726, 29)\n",
      "Cleaned data shape: (279663, 29)\n"
     ]
    }
   ],
   "source": [
    "# Calculate the Z-scores of the 'Amount' column\n",
    "z_scores = np.abs(stats.zscore(data['Amount']))\n",
    "\n",
    "# Set the threshold for outlier detection\n",
    "threshold = 3\n",
    "\n",
    "# Filter the data to remove outliers\n",
    "data_cleaned = data[z_scores < threshold]\n",
    "\n",
    "# Print the shape of the original and cleaned data to see how many rows were removed\n",
    "print(\"Original data shape:\", data.shape)\n",
    "print(\"Cleaned data shape:\", data_cleaned.shape)"
   ]
  },
  {
   "cell_type": "code",
   "execution_count": 20,
   "id": "19b11806",
   "metadata": {},
   "outputs": [
    {
     "name": "stdout",
     "output_type": "stream",
     "text": [
      "\n",
      "Class Distribution:\n",
      "0    283253\n",
      "1       473\n",
      "Name: Class, dtype: int64\n"
     ]
    }
   ],
   "source": [
    "print(\"\\nClass Distribution:\")\n",
    "print(data['Class'].value_counts())"
   ]
  },
  {
   "cell_type": "markdown",
   "id": "b9e2c484",
   "metadata": {},
   "source": [
    "# DEALING WITH OUTLIERS IN ALL NUMERIC FEATURES"
   ]
  },
  {
   "cell_type": "code",
   "execution_count": 21,
   "id": "240d8fa5",
   "metadata": {},
   "outputs": [
    {
     "name": "stdout",
     "output_type": "stream",
     "text": [
      "Original data shape: (283726, 29)\n",
      "Data shape after removing outliers: (247931, 29)\n"
     ]
    }
   ],
   "source": [
    "\n",
    "from scipy import stats\n",
    "import numpy as np\n",
    "\n",
    "# Define the threshold\n",
    "threshold = 3\n",
    "\n",
    "# Calculating Z-scores for all features except 'Amount' and 'Class'\n",
    "features = [col for col in data.columns if col not in ['Amount', 'Class']]\n",
    "z_scores = np.abs(stats.zscore(data[features]))\n",
    "\n",
    "# Filter the data to remove outliers\n",
    "# Keep only the rows with all Z-scores less than the threshold\n",
    "data_cleaned = data[(z_scores < threshold).all(axis=1)]\n",
    "\n",
    "print(\"Original data shape:\", data.shape)\n",
    "print(\"Data shape after removing outliers:\", data_cleaned.shape)\n"
   ]
  },
  {
   "cell_type": "code",
   "execution_count": 23,
   "id": "b6d76124",
   "metadata": {},
   "outputs": [],
   "source": [
    "# Save to new CSV file\n",
    "data.to_csv('C:\\\\Users\\\\Aman ur Rehman\\\\Documents\\\\cleaned_creditcard.csv', index=False)\n"
   ]
  },
  {
   "cell_type": "markdown",
   "id": "2a218fd2",
   "metadata": {},
   "source": [
    "# PCA"
   ]
  },
  {
   "cell_type": "code",
   "execution_count": 41,
   "id": "e4165226",
   "metadata": {},
   "outputs": [
    {
     "name": "stdout",
     "output_type": "stream",
     "text": [
      "Number of features before PCA transformation: 28\n",
      "Number of features after PCA transformation: 3\n",
      "Number of features removed by PCA: 25\n"
     ]
    }
   ],
   "source": [
    "from sklearn.decomposition import PCA\n",
    "import pandas as pd\n",
    "\n",
    "# Load the cleaned dataset\n",
    "cleaned_data = pd.read_csv('C:\\\\Users\\\\Aman ur Rehman\\\\Documents\\\\cleaned_creditcard.csv')\n",
    "\n",
    "# Separate features (X) and target variable (y)\n",
    "X = cleaned_data.drop(columns=['Class'])  # Assuming 'Class' is the target variable\n",
    "y = cleaned_data['Class']\n",
    "\n",
    "# Initialize PCA with minimum number of components to retain\n",
    "min_num_components = 3\n",
    "pca = PCA(n_components=min_num_components)\n",
    "\n",
    "# Fit PCA on the features\n",
    "X_pca = pca.fit_transform(X)\n",
    "\n",
    "# Number of features before PCA transformation\n",
    "num_features_before_pca = X.shape[1]\n",
    "\n",
    "# Number of features after PCA transformation\n",
    "num_features_after_pca = X_pca.shape[1]\n",
    "\n",
    "# Number of features removed by PCA\n",
    "num_features_removed = num_features_before_pca - num_features_after_pca\n",
    "\n",
    "# Save PCA-transformed features to a new CSV file\n",
    "pca_df = pd.DataFrame(data=X_pca, columns=[f'PC{i}' for i in range(1, num_features_after_pca + 1)])\n",
    "pca_df['Class'] = y  # Add the target variable back\n",
    "pca_df.to_csv('C:\\\\Users\\\\Aman ur Rehman\\\\Documents\\\\pca_creditcard.csv', index=False)\n",
    "\n",
    "# Print summary\n",
    "print(f\"Number of features before PCA transformation: {num_features_before_pca}\")\n",
    "print(f\"Number of features after PCA transformation: {num_features_after_pca}\")\n",
    "print(f\"Number of features removed by PCA: {num_features_removed}\")\n",
    "\n",
    "\n"
   ]
  },
  {
   "cell_type": "code",
   "execution_count": 42,
   "id": "18fbc554",
   "metadata": {},
   "outputs": [
    {
     "name": "stdout",
     "output_type": "stream",
     "text": [
      "Explained variance ratio for PC1: 0.9999721901968832\n",
      "Explained variance ratio for PC2: 2.780819924963898e-05\n",
      "Explained variance ratio for PC3: 1.6038670275833953e-09\n",
      "Total explained variance ratio for the three components: 0.9999999999999999\n"
     ]
    }
   ],
   "source": [
    "from sklearn.decomposition import PCA\n",
    "import pandas as pd\n",
    "\n",
    "# Load the PCA-transformed dataset\n",
    "pca_data = pd.read_csv('C:\\\\Users\\\\Aman ur Rehman\\\\Documents\\\\pca_creditcard.csv')\n",
    "\n",
    "# Separate features (X_pca) and target variable (y)\n",
    "X_pca = pca_data.drop(columns=['Class'])\n",
    "y = pca_data['Class']\n",
    "\n",
    "# Initialize PCA with three components\n",
    "pca = PCA(n_components=3)\n",
    "\n",
    "# Fit PCA on the features\n",
    "pca.fit(X_pca)\n",
    "\n",
    "# Explained variance ratio of the three principal components\n",
    "explained_variance_ratio = pca.explained_variance_ratio_\n",
    "\n",
    "# Print the explained variance ratio for each component\n",
    "for i, ratio in enumerate(explained_variance_ratio):\n",
    "    print(f\"Explained variance ratio for PC{i+1}: {ratio}\")\n",
    "\n",
    "# Total explained variance ratio for the three components\n",
    "total_explained_variance_ratio = explained_variance_ratio.sum()\n",
    "print(f\"Total explained variance ratio for the three components: {total_explained_variance_ratio}\")\n"
   ]
  },
  {
   "cell_type": "markdown",
   "id": "11303074",
   "metadata": {},
   "source": [
    "# Logistic Regression"
   ]
  },
  {
   "cell_type": "raw",
   "id": "754d86bb",
   "metadata": {},
   "source": [
    "from sklearn.linear_model import LogisticRegression\n",
    "from sklearn.feature_selection import SelectFromModel\n",
    "import pandas as pd\n",
    "\n",
    "pca_data = pd.read_csv('C:\\\\Users\\\\Aman ur Rehman\\\\Documents\\\\pca_creditcard.csv')\n",
    "\n",
    "# Separate features (X) and target variable (y)\n",
    "X = pca_data.drop(columns=['Class'])  # Assuming 'Class' is the target variable\n",
    "y = pca_data['Class']\n",
    "\n",
    "#  Logistic Regression model with L1 penalty\n",
    "logistic_reg = LogisticRegression(penalty='l1', solver='liblinear', C=1, random_state=42)\n",
    "\n",
    "# Perform feature selection\n",
    "selector = SelectFromModel(logistic_reg)\n",
    "selector.fit(X, y)\n",
    "\n",
    "selected_features = X.columns[selector.get_support()]\n",
    "\n",
    "# Print selected features\n",
    "print(\"Selected Features:\")\n",
    "print(selected_features)\n",
    "\n",
    "# Transform the dataset to include only selected features\n",
    "X_selected = selector.transform(X)\n",
    "\n",
    "# Create a DataFrame with selected features\n",
    "selected_data = pd.DataFrame(data=X_selected, columns=selected_features)\n",
    "selected_data['Class'] = y  # Add the target variable back\n",
    "\n",
    "# Save selected features to a new CSV file\n",
    "selected_data.to_csv('C:\\\\Users\\\\Aman ur Rehman\\\\Documents\\\\selected_features_pca.csv', index=False)\n",
    "\n"
   ]
  },
  {
   "cell_type": "raw",
   "id": "eb0c2be4",
   "metadata": {},
   "source": [
    "from sklearn.feature_selection import mutual_info_classif\n",
    "\n",
    "data = pd.read_csv('C:\\\\Users\\\\Aman ur Rehman\\\\Documents\\\\pca_creditcard.csv')\n",
    "\n",
    "# Separate features and target variable\n",
    "X = data.drop(columns=['Class'])\n",
    "y = data['Class']\n",
    "\n",
    "# Compute mutual information scores\n",
    "mi_scores = mutual_info_classif(X, y)\n",
    "\n",
    "# Create a DataFrame to display feature names and their mutual information scores\n",
    "mi_scores_df = pd.DataFrame({'Feature': X.columns, 'Mutual_Information': mi_scores})\n",
    "mi_scores_df = mi_scores_df.sort_values(by='Mutual_Information', ascending=False)\n",
    "\n",
    "# Display the DataFrame\n",
    "print(mi_scores_df)\n"
   ]
  },
  {
   "cell_type": "raw",
   "id": "02051cb9",
   "metadata": {},
   "source": [
    "# Print all features and their mutual information scores\n",
    "print(\"All Features and their Mutual Information Scores:\")\n",
    "print(selected_features_scores)\n",
    "\n"
   ]
  },
  {
   "cell_type": "raw",
   "id": "964eab69",
   "metadata": {},
   "source": [
    "from sklearn.feature_selection import SelectKBest\n",
    "\n",
    "# Set the threshold for selecting features\n",
    "threshold = 0.004  \n",
    "\n",
    "# Initialize SelectKBest with mutual_info_classif and the desired number of features to keep\n",
    "selector = SelectKBest(mutual_info_classif, k='all')\n",
    "\n",
    "# Fit selector to the data and transform the features\n",
    "X_selected = selector.fit_transform(X, y)\n",
    "\n",
    "# Get the indices of selected features\n",
    "selected_indices = selector.get_support(indices=True)\n",
    "\n",
    "# Get the names of selected features\n",
    "selected_features = X.columns[selected_indices]\n",
    "\n",
    "# Filter out features based on the threshold\n",
    "selected_features_filtered = selected_features[selector.scores_ > threshold]\n",
    "\n",
    "# Display selected features and their scores\n",
    "selected_features_scores = pd.DataFrame({'Feature': selected_features, 'Mutual_Information': selector.scores_})\n",
    "print(selected_features_scores)\n",
    "\n",
    "# Display selected features after filtering\n",
    "print(\"Selected Features after Filtering:\")\n",
    "print(selected_features_filtered)\n",
    "\n",
    "# Filter out features based on the threshold\n",
    "selected_features_above_threshold = selected_features_scores[selected_features_scores['Mutual_Information'] > threshold]\n",
    "\n",
    "# Display selected features and their scores above the threshold\n",
    "print(\"Selected Features above Threshold:\")\n",
    "print(selected_features_above_threshold)\n"
   ]
  },
  {
   "cell_type": "markdown",
   "id": "564f4673",
   "metadata": {},
   "source": [
    "# MODEL TRAINING - RANDOM FOREST CLASSIFIER"
   ]
  },
  {
   "cell_type": "code",
   "execution_count": 43,
   "id": "9746f902",
   "metadata": {},
   "outputs": [
    {
     "name": "stdout",
     "output_type": "stream",
     "text": [
      "Accuracy of Random Forest Classifier: 0.9985197194515913\n"
     ]
    }
   ],
   "source": [
    "from sklearn.ensemble import RandomForestClassifier\n",
    "from sklearn.model_selection import train_test_split\n",
    "from sklearn.metrics import accuracy_score\n",
    "\n",
    "# Load the PCA-transformed dataset\n",
    "pca_data = pd.read_csv('C:\\\\Users\\\\Aman ur Rehman\\\\Documents\\\\pca_creditcard.csv')\n",
    "\n",
    "# Separate features (X_pca) and target variable (y)\n",
    "X_pca = pca_data.drop(columns=['Class'])\n",
    "y = pca_data['Class']\n",
    "\n",
    "# Split the dataset into training and testing sets\n",
    "X_train, X_test, y_train, y_test = train_test_split(X_pca, y, test_size=0.2, random_state=42)\n",
    "\n",
    "# Initialize Random Forest classifier\n",
    "rf_classifier = RandomForestClassifier(random_state=42)\n",
    "\n",
    "# Train the classifier\n",
    "rf_classifier.fit(X_train, y_train)\n",
    "\n",
    "# Predict the labels for test set\n",
    "y_pred = rf_classifier.predict(X_test)\n",
    "\n",
    "# Calculate accuracy\n",
    "accuracy = accuracy_score(y_test, y_pred)\n",
    "print(f\"Accuracy of Random Forest Classifier: {accuracy}\")\n"
   ]
  },
  {
   "cell_type": "code",
   "execution_count": 44,
   "id": "680b732f",
   "metadata": {},
   "outputs": [
    {
     "name": "stdout",
     "output_type": "stream",
     "text": [
      "Accuracy: 0.9985197194515913\n",
      "Precision: 0.875\n",
      "Recall: 0.07777777777777778\n",
      "F1 Score: 0.14285714285714288\n",
      "Confusion Matrix:\n",
      "[[56655     1]\n",
      " [   83     7]]\n"
     ]
    }
   ],
   "source": [
    "from sklearn.metrics import accuracy_score, precision_score, recall_score, f1_score, confusion_matrix\n",
    "\n",
    "# Calculate accuracy\n",
    "accuracy = accuracy_score(y_test, y_pred)\n",
    "print(f\"Accuracy: {accuracy}\")\n",
    "\n",
    "# Calculate precision\n",
    "precision = precision_score(y_test, y_pred)\n",
    "print(f\"Precision: {precision}\")\n",
    "\n",
    "# Calculate recall\n",
    "recall = recall_score(y_test, y_pred)\n",
    "print(f\"Recall: {recall}\")\n",
    "\n",
    "# Calculate F1 score\n",
    "f1 = f1_score(y_test, y_pred)\n",
    "print(f\"F1 Score: {f1}\")\n",
    "\n",
    "# Calculate confusion matrix\n",
    "conf_matrix = confusion_matrix(y_test, y_pred)\n",
    "print(\"Confusion Matrix:\")\n",
    "print(conf_matrix)\n",
    "\n"
   ]
  },
  {
   "cell_type": "markdown",
   "id": "6134aa50",
   "metadata": {},
   "source": [
    "# CROSS VALIDATION"
   ]
  },
  {
   "cell_type": "code",
   "execution_count": 45,
   "id": "f1ee0f3f",
   "metadata": {},
   "outputs": [
    {
     "name": "stdout",
     "output_type": "stream",
     "text": [
      "Cross-validation Scores: [0.99832584 0.99850207 0.99854613 0.99856816 0.99848004]\n",
      "Mean CV Score: 0.9984844479689841\n"
     ]
    }
   ],
   "source": [
    "from sklearn.model_selection import cross_val_score\n",
    "\n",
    "# Initialize Random Forest classifier\n",
    "rf_classifier = RandomForestClassifier()\n",
    "\n",
    "# Perform cross-validation\n",
    "cv_scores = cross_val_score(rf_classifier, X_train, y_train, cv=5)\n",
    "\n",
    "# Print cross-validation scores\n",
    "print(\"Cross-validation Scores:\", cv_scores)\n",
    "print(\"Mean CV Score:\", cv_scores.mean())\n",
    "\n"
   ]
  },
  {
   "cell_type": "markdown",
   "id": "8095b8fb",
   "metadata": {},
   "source": [
    "# Logistic Regression with Cross-Validation"
   ]
  },
  {
   "cell_type": "code",
   "execution_count": 46,
   "id": "c229db02",
   "metadata": {},
   "outputs": [
    {
     "name": "stdout",
     "output_type": "stream",
     "text": [
      "Accuracy: 0.8926865803154463\n",
      "Precision: 0.0023662252480385238\n",
      "Recall: 0.14882506527415143\n",
      "F1 Score: 0.004658385093167701\n",
      "ROC AUC Score: 0.521384469600054\n",
      "Confusion Matrix:\n",
      " [[202565  24032]\n",
      " [   326     57]]\n"
     ]
    }
   ],
   "source": [
    "from sklearn.linear_model import LogisticRegression\n",
    "from sklearn.model_selection import cross_val_predict\n",
    "from sklearn.metrics import accuracy_score, precision_score, recall_score, f1_score, roc_auc_score, confusion_matrix\n",
    "\n",
    "# Initialize Logistic Regression classifier\n",
    "lr_classifier = LogisticRegression()\n",
    "\n",
    "# Perform cross-validation\n",
    "y_pred = cross_val_predict(lr_classifier, X_train, y_train, cv=5)\n",
    "\n",
    "# Calculate evaluation metrics\n",
    "accuracy = accuracy_score(y_train, y_pred)\n",
    "precision = precision_score(y_train, y_pred)\n",
    "recall = recall_score(y_train, y_pred)\n",
    "f1 = f1_score(y_train, y_pred)\n",
    "roc_auc = roc_auc_score(y_train, y_pred)\n",
    "conf_matrix = confusion_matrix(y_train, y_pred)\n",
    "\n",
    "# Print evaluation metrics\n",
    "print(\"Accuracy:\", accuracy)\n",
    "print(\"Precision:\", precision)\n",
    "print(\"Recall:\", recall)\n",
    "print(\"F1 Score:\", f1)\n",
    "print(\"ROC AUC Score:\", roc_auc)\n",
    "print(\"Confusion Matrix:\\n\", conf_matrix)\n"
   ]
  },
  {
   "cell_type": "markdown",
   "id": "850d5cd3",
   "metadata": {},
   "source": [
    "# Support Vector Machine (SVM) with Cross-Validation"
   ]
  },
  {
   "cell_type": "code",
   "execution_count": 47,
   "id": "fcd12fc1",
   "metadata": {},
   "outputs": [
    {
     "name": "stderr",
     "output_type": "stream",
     "text": [
      "C:\\Users\\Aman ur Rehman\\anaconda3\\lib\\site-packages\\sklearn\\metrics\\_classification.py:1471: UndefinedMetricWarning: Precision is ill-defined and being set to 0.0 due to no predicted samples. Use `zero_division` parameter to control this behavior.\n",
      "  _warn_prf(average, modifier, msg_start, len(result))\n"
     ]
    },
    {
     "name": "stdout",
     "output_type": "stream",
     "text": [
      "Accuracy: 0.9983126266631421\n",
      "Precision: 0.0\n",
      "Recall: 0.0\n",
      "F1 Score: 0.0\n",
      "ROC AUC Score: 0.5\n",
      "Confusion Matrix:\n",
      " [[226597      0]\n",
      " [   383      0]]\n"
     ]
    }
   ],
   "source": [
    "from sklearn.svm import SVC\n",
    "from sklearn.model_selection import cross_val_predict\n",
    "from sklearn.metrics import accuracy_score, precision_score, recall_score, f1_score, roc_auc_score, confusion_matrix\n",
    "\n",
    "# Initialize SVM classifier\n",
    "svm_classifier = SVC()\n",
    "\n",
    "# Perform cross-validation\n",
    "y_pred = cross_val_predict(svm_classifier, X_train, y_train, cv=5)\n",
    "\n",
    "# Calculate evaluation metrics\n",
    "accuracy = accuracy_score(y_train, y_pred)\n",
    "precision = precision_score(y_train, y_pred)\n",
    "recall = recall_score(y_train, y_pred)\n",
    "f1 = f1_score(y_train, y_pred)\n",
    "roc_auc = roc_auc_score(y_train, y_pred)\n",
    "conf_matrix = confusion_matrix(y_train, y_pred)\n",
    "\n",
    "# Print evaluation metrics\n",
    "print(\"Accuracy:\", accuracy)\n",
    "print(\"Precision:\", precision)\n",
    "print(\"Recall:\", recall)\n",
    "print(\"F1 Score:\", f1)\n",
    "print(\"ROC AUC Score:\", roc_auc)\n",
    "print(\"Confusion Matrix:\\n\", conf_matrix)\n"
   ]
  },
  {
   "cell_type": "markdown",
   "id": "b85905db",
   "metadata": {},
   "source": [
    "# Gradient Boosting Machine (XGBoost) with Cross-Validation"
   ]
  },
  {
   "cell_type": "code",
   "execution_count": 48,
   "id": "5a0bbf5b",
   "metadata": {},
   "outputs": [
    {
     "name": "stdout",
     "output_type": "stream",
     "text": [
      "Accuracy: 0.998087937263195\n",
      "Precision: 0.2743362831858407\n",
      "Recall: 0.08093994778067885\n",
      "F1 Score: 0.125\n",
      "ROC AUC Score: 0.5402890359255826\n",
      "Confusion Matrix:\n",
      " [[226515     82]\n",
      " [   352     31]]\n"
     ]
    }
   ],
   "source": [
    "from sklearn.ensemble import GradientBoostingClassifier\n",
    "from sklearn.model_selection import cross_val_predict\n",
    "from sklearn.metrics import accuracy_score, precision_score, recall_score, f1_score, roc_auc_score, confusion_matrix\n",
    "\n",
    "# Initialize Gradient Boosting classifier\n",
    "gb_classifier = GradientBoostingClassifier()\n",
    "\n",
    "# Perform cross-validation\n",
    "y_pred = cross_val_predict(gb_classifier, X_train, y_train, cv=5)\n",
    "\n",
    "# Calculate evaluation metrics\n",
    "accuracy = accuracy_score(y_train, y_pred)\n",
    "precision = precision_score(y_train, y_pred)\n",
    "recall = recall_score(y_train, y_pred)\n",
    "f1 = f1_score(y_train, y_pred)\n",
    "roc_auc = roc_auc_score(y_train, y_pred)\n",
    "conf_matrix = confusion_matrix(y_train, y_pred)\n",
    "\n",
    "# Print evaluation metrics\n",
    "print(\"Accuracy:\", accuracy)\n",
    "print(\"Precision:\", precision)\n",
    "print(\"Recall:\", recall)\n",
    "print(\"F1 Score:\", f1)\n",
    "print(\"ROC AUC Score:\", roc_auc)\n",
    "print(\"Confusion Matrix:\\n\", conf_matrix)\n"
   ]
  },
  {
   "cell_type": "markdown",
   "id": "62e5eae1",
   "metadata": {},
   "source": [
    "\n",
    "# K-Nearest Neighbors (KNN) with Cross-Validation"
   ]
  },
  {
   "cell_type": "code",
   "execution_count": 49,
   "id": "41e50c00",
   "metadata": {},
   "outputs": [
    {
     "name": "stdout",
     "output_type": "stream",
     "text": [
      "Accuracy: 0.9983082209886334\n",
      "Precision: 0.3333333333333333\n",
      "Recall: 0.0026109660574412533\n",
      "F1 Score: 0.0051813471502590676\n",
      "ROC AUC Score: 0.501301069907629\n",
      "Confusion Matrix:\n",
      " [[226595      2]\n",
      " [   382      1]]\n"
     ]
    }
   ],
   "source": [
    "from sklearn.neighbors import KNeighborsClassifier\n",
    "from sklearn.model_selection import cross_val_predict\n",
    "from sklearn.metrics import accuracy_score, precision_score, recall_score, f1_score, roc_auc_score, confusion_matrix\n",
    "\n",
    "# Initialize KNN classifier\n",
    "knn_classifier = KNeighborsClassifier()\n",
    "\n",
    "# Perform cross-validation\n",
    "y_pred = cross_val_predict(knn_classifier, X_train, y_train, cv=5)\n",
    "\n",
    "# Calculate evaluation metrics\n",
    "accuracy = accuracy_score(y_train, y_pred)\n",
    "precision = precision_score(y_train, y_pred)\n",
    "recall = recall_score(y_train, y_pred)\n",
    "f1 = f1_score(y_train, y_pred)\n",
    "roc_auc = roc_auc_score(y_train, y_pred)\n",
    "conf_matrix = confusion_matrix(y_train, y_pred)\n",
    "\n",
    "# Print evaluation metrics\n",
    "print(\"Accuracy:\", accuracy)\n",
    "print(\"Precision:\", precision)\n",
    "print(\"Recall:\", recall)\n",
    "print(\"F1 Score:\", f1)\n",
    "print(\"ROC AUC Score:\", roc_auc)\n",
    "print(\"Confusion Matrix:\\n\", conf_matrix)\n"
   ]
  },
  {
   "cell_type": "code",
   "execution_count": null,
   "id": "e42ec343",
   "metadata": {},
   "outputs": [],
   "source": [
    "from sklearn.metrics import accuracy_score, precision_score, recall_score, f1_score, roc_auc_score, classification_report\n",
    "\n",
    "def evaluate_classifier(classifier, X_train, y_train, X_val, y_val, name):\n",
    "    # Fit the classifier\n",
    "    classifier.fit(X_train, y_train)\n",
    "    \n",
    "    # Predict on the validation set\n",
    "    y_val_pred = classifier.predict(X_val)\n",
    "    y_prob = classifier.predict_proba(X_val)[:, 1] if hasattr(classifier, \"predict_proba\") else None\n",
    "\n",
    "    # Calculate metrics\n",
    "    accuracy = accuracy_score(y_val, y_val_pred)\n",
    "    precision = precision_score(y_val, y_val_pred, average='macro', zero_division=1)\n",
    "    recall = recall_score(y_val, y_val_pred, average='macro')\n",
    "    f1 = f1_score(y_val, y_val_pred, average='macro')\n",
    "    roc_auc = roc_auc_score(y_val, y_prob) if y_prob is not None else 'N/A'\n",
    "\n",
    "    # Print the classification report \n",
    "    print(f\"Results for {name}:\")\n",
    "    print(\"Accuracy:\", accuracy)\n",
    "    print(\"Precision:\", precision)\n",
    "    print(\"Recall:\", recall)\n",
    "    print(\"F1 Score:\", f1)\n",
    "    print(\"ROC AUC:\", roc_auc)\n",
    "    print(classification_report(y_val, y_val_pred))\n",
    "    print(\"\\n\" + \"-\"*50 + \"\\n\")\n",
    "\n",
    "    # Cross-validation scores for accuracy\n",
    "    scores = cross_val_score(classifier, np.vstack((X_train, X_val)), np.concatenate((y_train, y_val)), cv=5, scoring='accuracy')\n",
    "    print(f\"{name} - Cross-validated Accuracy Scores:\", scores)\n",
    "    print(\"Average CV Accuracy Score:\", scores.mean())\n"
   ]
  },
  {
   "cell_type": "markdown",
   "id": "fc210354",
   "metadata": {},
   "source": [
    " We will apply SMOTE, One-Class Learning, and Cluster-Based Oversampling—to improve model performance in the face of class imbalance. These will be paired with three machine learning algorithms: Logistic Regression, SVM, and XGBoost."
   ]
  },
  {
   "cell_type": "markdown",
   "id": "2f4aa757",
   "metadata": {},
   "source": [
    "# SMOTE"
   ]
  },
  {
   "cell_type": "markdown",
   "id": "bf9b824d",
   "metadata": {},
   "source": [
    "# Application with Logistic Regression, SVM, and XGBoost:\n"
   ]
  },
  {
   "cell_type": "code",
   "execution_count": 50,
   "id": "ba1ec436",
   "metadata": {},
   "outputs": [
    {
     "name": "stdout",
     "output_type": "stream",
     "text": [
      "Requirement already satisfied: scikit-learn in c:\\users\\aman ur rehman\\anaconda3\\lib\\site-packages (1.3.2)\n",
      "Requirement already satisfied: imbalanced-learn in c:\\users\\aman ur rehman\\anaconda3\\lib\\site-packages (0.12.2)\n",
      "Requirement already satisfied: numpy<2.0,>=1.17.3 in c:\\users\\aman ur rehman\\anaconda3\\lib\\site-packages (from scikit-learn) (1.22.4)\n",
      "Requirement already satisfied: scipy>=1.5.0 in c:\\users\\aman ur rehman\\anaconda3\\lib\\site-packages (from scikit-learn) (1.6.2)\n",
      "Requirement already satisfied: joblib>=1.1.1 in c:\\users\\aman ur rehman\\anaconda3\\lib\\site-packages (from scikit-learn) (1.4.2)\n",
      "Requirement already satisfied: threadpoolctl>=2.0.0 in c:\\users\\aman ur rehman\\anaconda3\\lib\\site-packages (from scikit-learn) (2.1.0)\n"
     ]
    }
   ],
   "source": [
    "!pip install -U scikit-learn imbalanced-learn\n"
   ]
  },
  {
   "cell_type": "code",
   "execution_count": null,
   "id": "23b11539",
   "metadata": {},
   "outputs": [],
   "source": [
    "try:\n",
    "    from imblearn.over_sampling import SMOTE\n",
    "    print(\"SMOTE is ready to be used.\")\n",
    "except ImportError as e:\n",
    "    print(\"Failed to import SMOTE:\", e)\n"
   ]
  },
  {
   "cell_type": "markdown",
   "id": "2a242a1c",
   "metadata": {},
   "source": [
    "# Logistic Regression"
   ]
  },
  {
   "cell_type": "code",
   "execution_count": 51,
   "id": "1e178a8c",
   "metadata": {},
   "outputs": [
    {
     "name": "stdout",
     "output_type": "stream",
     "text": [
      "Requirement already satisfied: imbalanced-learn in c:\\users\\aman ur rehman\\anaconda3\\lib\\site-packages (0.12.2)\n",
      "Requirement already satisfied: numpy>=1.17.3 in c:\\users\\aman ur rehman\\anaconda3\\lib\\site-packages (from imbalanced-learn) (1.22.4)\n",
      "Requirement already satisfied: scipy>=1.5.0 in c:\\users\\aman ur rehman\\anaconda3\\lib\\site-packages (from imbalanced-learn) (1.6.2)\n",
      "Requirement already satisfied: scikit-learn>=1.0.2 in c:\\users\\aman ur rehman\\anaconda3\\lib\\site-packages (from imbalanced-learn) (1.3.2)\n",
      "Requirement already satisfied: joblib>=1.1.1 in c:\\users\\aman ur rehman\\anaconda3\\lib\\site-packages (from imbalanced-learn) (1.4.2)\n",
      "Requirement already satisfied: threadpoolctl>=2.0.0 in c:\\users\\aman ur rehman\\anaconda3\\lib\\site-packages (from imbalanced-learn) (2.1.0)\n",
      "Accuracy: 0.8001445035773447\n",
      "Precision: 0.004753939607359803\n",
      "Recall: 0.6\n",
      "F1 Score: 0.009433138265350685\n",
      "ROC AUC Score: 0.7002312199943519\n",
      "Confusion Matrix:\n",
      " [[45351 11305]\n",
      " [   36    54]]\n"
     ]
    }
   ],
   "source": [
    "!pip install imbalanced-learn\n",
    "\n",
    "\n",
    "from sklearn.metrics import classification_report\n",
    "\n",
    "from imblearn.over_sampling import SMOTE\n",
    "from sklearn.linear_model import LogisticRegression\n",
    "from sklearn.model_selection import train_test_split\n",
    "from sklearn.metrics import accuracy_score, precision_score, recall_score, f1_score, roc_auc_score, confusion_matrix\n",
    "import pandas as pd\n",
    "\n",
    "# Load the PCA-transformed dataset\n",
    "pca_data = pd.read_csv('C:\\\\Users\\\\Aman ur Rehman\\\\Documents\\\\pca_creditcard.csv')\n",
    "\n",
    "# Separate features (X) and target variable (y)\n",
    "X = pca_data.drop(columns=['Class'])  # Assuming 'Class' is the target variable\n",
    "y = pca_data['Class']\n",
    "\n",
    "# Split the data into training and testing sets\n",
    "X_train, X_test, y_train, y_test = train_test_split(X, y, test_size=0.2, random_state=42)\n",
    "\n",
    "# Apply SMOTE to the training data\n",
    "smote = SMOTE(random_state=42)\n",
    "X_train_smote, y_train_smote = smote.fit_resample(X_train, y_train)\n",
    "\n",
    "# Initialize logistic regression classifier\n",
    "logreg_classifier = LogisticRegression()\n",
    "\n",
    "# Fit the logistic regression model on SMOTE-transformed data\n",
    "logreg_classifier.fit(X_train_smote, y_train_smote)\n",
    "\n",
    "# Predict on the test set\n",
    "y_pred = logreg_classifier.predict(X_test)\n",
    "\n",
    "# Calculate evaluation metrics\n",
    "accuracy = accuracy_score(y_test, y_pred)\n",
    "precision = precision_score(y_test, y_pred)\n",
    "recall = recall_score(y_test, y_pred)\n",
    "f1 = f1_score(y_test, y_pred)\n",
    "roc_auc = roc_auc_score(y_test, y_pred)\n",
    "conf_matrix = confusion_matrix(y_test, y_pred)\n",
    "\n",
    "# Print evaluation metrics\n",
    "print(\"Accuracy:\", accuracy)\n",
    "print(\"Precision:\", precision)\n",
    "print(\"Recall:\", recall)\n",
    "print(\"F1 Score:\", f1)\n",
    "print(\"ROC AUC Score:\", roc_auc)\n",
    "print(\"Confusion Matrix:\\n\", conf_matrix)\n",
    "\n"
   ]
  },
  {
   "cell_type": "markdown",
   "id": "5439f815",
   "metadata": {},
   "source": [
    "# SVM"
   ]
  },
  {
   "cell_type": "code",
   "execution_count": 52,
   "id": "987f2299",
   "metadata": {},
   "outputs": [
    {
     "name": "stdout",
     "output_type": "stream",
     "text": [
      "SVM Metrics:\n",
      "Accuracy: 0.998413985126705\n",
      "Precision: 0.0\n",
      "Recall: 0.0\n",
      "F1 Score: 0.0\n",
      "ROC AUC Score: 0.5\n",
      "Confusion Matrix:\n",
      " [[56656     0]\n",
      " [   90     0]]\n"
     ]
    },
    {
     "name": "stderr",
     "output_type": "stream",
     "text": [
      "C:\\Users\\Aman ur Rehman\\anaconda3\\lib\\site-packages\\sklearn\\metrics\\_classification.py:1471: UndefinedMetricWarning: Precision is ill-defined and being set to 0.0 due to no predicted samples. Use `zero_division` parameter to control this behavior.\n",
      "  _warn_prf(average, modifier, msg_start, len(result))\n"
     ]
    }
   ],
   "source": [
    "from sklearn.svm import SVC\n",
    "from sklearn.model_selection import train_test_split\n",
    "from sklearn.metrics import accuracy_score, precision_score, recall_score, f1_score, roc_auc_score, confusion_matrix\n",
    "import pandas as pd\n",
    "\n",
    "# Load the PCA-transformed dataset\n",
    "pca_data = pd.read_csv('C:\\\\Users\\\\Aman ur Rehman\\\\Documents\\\\pca_creditcard.csv')\n",
    "\n",
    "# Separate features (X) and target variable (y)\n",
    "X = pca_data.drop(columns=['Class'])  # Assuming 'Class' is the target variable\n",
    "y = pca_data['Class']\n",
    "\n",
    "# Split the data into training and testing sets\n",
    "X_train, X_test, y_train, y_test = train_test_split(X, y, test_size=0.2, random_state=42)\n",
    "\n",
    "# Initialize SVM classifier\n",
    "svm_classifier = SVC()\n",
    "\n",
    "# Fit the SVM model\n",
    "svm_classifier.fit(X_train, y_train)\n",
    "\n",
    "# Predict on the test set\n",
    "y_pred = svm_classifier.predict(X_test)\n",
    "\n",
    "# Calculate evaluation metrics\n",
    "accuracy = accuracy_score(y_test, y_pred)\n",
    "precision = precision_score(y_test, y_pred)\n",
    "recall = recall_score(y_test, y_pred)\n",
    "f1 = f1_score(y_test, y_pred)\n",
    "roc_auc = roc_auc_score(y_test, y_pred)\n",
    "conf_matrix = confusion_matrix(y_test, y_pred)\n",
    "\n",
    "# Print evaluation metrics\n",
    "print(\"SVM Metrics:\")\n",
    "print(\"Accuracy:\", accuracy)\n",
    "print(\"Precision:\", precision)\n",
    "print(\"Recall:\", recall)\n",
    "print(\"F1 Score:\", f1)\n",
    "print(\"ROC AUC Score:\", roc_auc)\n",
    "print(\"Confusion Matrix:\\n\", conf_matrix)\n"
   ]
  },
  {
   "cell_type": "markdown",
   "id": "ed9f4fbe",
   "metadata": {},
   "source": [
    "# XGBOOST"
   ]
  },
  {
   "cell_type": "code",
   "execution_count": 53,
   "id": "ff19338d",
   "metadata": {},
   "outputs": [
    {
     "name": "stdout",
     "output_type": "stream",
     "text": [
      "XGBoost Metrics:\n",
      "Accuracy: 0.9984844746766292\n",
      "Precision: 0.6111111111111112\n",
      "Recall: 0.12222222222222222\n",
      "F1 Score: 0.2037037037037037\n",
      "ROC AUC Score: 0.5610493347767423\n",
      "Confusion Matrix:\n",
      " [[56649     7]\n",
      " [   79    11]]\n"
     ]
    }
   ],
   "source": [
    "from xgboost import XGBClassifier\n",
    "from sklearn.model_selection import train_test_split\n",
    "from sklearn.metrics import accuracy_score, precision_score, recall_score, f1_score, roc_auc_score, confusion_matrix\n",
    "import pandas as pd\n",
    "\n",
    "# Load the PCA-transformed dataset\n",
    "pca_data = pd.read_csv('C:\\\\Users\\\\Aman ur Rehman\\\\Documents\\\\pca_creditcard.csv')\n",
    "\n",
    "# Separate features (X) and target variable (y)\n",
    "X = pca_data.drop(columns=['Class'])  # Assuming 'Class' is the target variable\n",
    "y = pca_data['Class']\n",
    "\n",
    "# Split the data into training and testing sets\n",
    "X_train, X_test, y_train, y_test = train_test_split(X, y, test_size=0.2, random_state=42)\n",
    "\n",
    "# Initialize XGBoost classifier\n",
    "xgb_classifier = XGBClassifier()\n",
    "\n",
    "# Fit the XGBoost model\n",
    "xgb_classifier.fit(X_train, y_train)\n",
    "\n",
    "# Predict on the test set\n",
    "y_pred = xgb_classifier.predict(X_test)\n",
    "\n",
    "# Calculate evaluation metrics\n",
    "accuracy = accuracy_score(y_test, y_pred)\n",
    "precision = precision_score(y_test, y_pred)\n",
    "recall = recall_score(y_test, y_pred)\n",
    "f1 = f1_score(y_test, y_pred)\n",
    "roc_auc = roc_auc_score(y_test, y_pred)\n",
    "conf_matrix = confusion_matrix(y_test, y_pred)\n",
    "\n",
    "# Print evaluation metrics\n",
    "print(\"XGBoost Metrics:\")\n",
    "print(\"Accuracy:\", accuracy)\n",
    "print(\"Precision:\", precision)\n",
    "print(\"Recall:\", recall)\n",
    "print(\"F1 Score:\", f1)\n",
    "print(\"ROC AUC Score:\", roc_auc)\n",
    "print(\"Confusion Matrix:\\n\", conf_matrix)\n"
   ]
  },
  {
   "cell_type": "markdown",
   "id": "1f0ea570",
   "metadata": {},
   "source": [
    "# One-Class Learning"
   ]
  },
  {
   "cell_type": "code",
   "execution_count": 54,
   "id": "8800c574",
   "metadata": {},
   "outputs": [
    {
     "name": "stdout",
     "output_type": "stream",
     "text": [
      "Isolation Forest Metrics:\n",
      "Accuracy: 0.10050047580446199\n",
      "Precision: 0.0008620520757822143\n",
      "Recall: 0.4888888888888889\n",
      "F1 Score: 0.0017210694099469989\n",
      "ROC AUC Score: 0.2943861981863253\n",
      "Confusion Matrix:\n",
      " [[ 5659 50997]\n",
      " [   46    44]]\n"
     ]
    }
   ],
   "source": [
    "\n",
    "from sklearn.ensemble import IsolationForest\n",
    "from sklearn.model_selection import train_test_split\n",
    "from sklearn.metrics import accuracy_score, precision_score, recall_score, f1_score, roc_auc_score, confusion_matrix\n",
    "import pandas as pd\n",
    "\n",
    "# Load the dataset\n",
    "data = pd.read_csv('C:\\\\Users\\\\Aman ur Rehman\\\\Documents\\\\pca_creditcard.csv')\n",
    "\n",
    "# Separate features (X) and target variable (y)\n",
    "X = data.drop(columns=['Class'])  # Assuming 'Class' is the target variable\n",
    "y = data['Class']\n",
    "\n",
    "# Split the data into training and testing sets\n",
    "X_train, X_test, y_train, y_test = train_test_split(X, y, test_size=0.2, random_state=42)\n",
    "\n",
    "# Initialize Isolation Forest classifier\n",
    "isolation_forest = IsolationForest(contamination=0.1, random_state=42)\n",
    "\n",
    "# Fit the Isolation Forest model\n",
    "isolation_forest.fit(X_train)\n",
    "\n",
    "# Predict on the test set\n",
    "y_pred = isolation_forest.predict(X_test)\n",
    "\n",
    "# Convert predictions to binary labels (1 for inliers, -1 for outliers)\n",
    "y_pred_binary = [1 if x == 1 else 0 for x in y_pred]\n",
    "\n",
    "# Calculate evaluation metrics\n",
    "accuracy = accuracy_score(y_test, y_pred_binary)\n",
    "precision = precision_score(y_test, y_pred_binary)\n",
    "recall = recall_score(y_test, y_pred_binary)\n",
    "f1 = f1_score(y_test, y_pred_binary)\n",
    "roc_auc = roc_auc_score(y_test, y_pred_binary)\n",
    "conf_matrix = confusion_matrix(y_test, y_pred_binary)\n",
    "\n",
    "# Print evaluation metrics\n",
    "print(\"Isolation Forest Metrics:\")\n",
    "print(\"Accuracy:\", accuracy)\n",
    "print(\"Precision:\", precision)\n",
    "print(\"Recall:\", recall)\n",
    "print(\"F1 Score:\", f1)\n",
    "print(\"ROC AUC Score:\", roc_auc)\n",
    "print(\"Confusion Matrix:\\n\", conf_matrix)\n"
   ]
  },
  {
   "cell_type": "markdown",
   "id": "ebcb7230",
   "metadata": {},
   "source": [
    "# Logistic Regression with Class Weighting"
   ]
  },
  {
   "cell_type": "code",
   "execution_count": 56,
   "id": "08335f85",
   "metadata": {},
   "outputs": [
    {
     "name": "stdout",
     "output_type": "stream",
     "text": [
      "Logistic Regression Metrics:\n",
      "Accuracy: 0.997180418003031\n",
      "Precision: 0.07317073170731707\n",
      "Recall: 0.06666666666666667\n",
      "F1 Score: 0.06976744186046512\n",
      "ROC AUC Score: 0.5326626188459004\n",
      "Confusion Matrix:\n",
      " [[56580    76]\n",
      " [   84     6]]\n"
     ]
    }
   ],
   "source": [
    "# Class weights\n",
    "class_weights = {0: 1, 1: 10} \n",
    "\n",
    "# Logistic Regression with class weighting\n",
    "logreg_classifier = LogisticRegression(class_weight=class_weights)\n",
    "logreg_classifier.fit(X_train, y_train)\n",
    "y_pred_logreg = logreg_classifier.predict(X_test)\n",
    "\n",
    "# Evaluation metrics for Logistic Regression\n",
    "accuracy_logreg = accuracy_score(y_test, y_pred_logreg)\n",
    "precision_logreg = precision_score(y_test, y_pred_logreg)\n",
    "recall_logreg = recall_score(y_test, y_pred_logreg)\n",
    "f1_logreg = f1_score(y_test, y_pred_logreg)\n",
    "roc_auc_logreg = roc_auc_score(y_test, y_pred_logreg)\n",
    "conf_matrix_logreg = confusion_matrix(y_test, y_pred_logreg)\n",
    "\n",
    "# Print evaluation metrics for Logistic Regression\n",
    "print(\"Logistic Regression Metrics:\")\n",
    "print(\"Accuracy:\", accuracy_logreg)\n",
    "print(\"Precision:\", precision_logreg)\n",
    "print(\"Recall:\", recall_logreg)\n",
    "print(\"F1 Score:\", f1_logreg)\n",
    "print(\"ROC AUC Score:\", roc_auc_logreg)\n",
    "print(\"Confusion Matrix:\\n\", conf_matrix_logreg)\n"
   ]
  },
  {
   "cell_type": "markdown",
   "id": "17cf9d58",
   "metadata": {},
   "source": [
    "# Support Vector Machine (SVM) with Class Weighting"
   ]
  },
  {
   "cell_type": "code",
   "execution_count": 57,
   "id": "b1d4f9cf",
   "metadata": {},
   "outputs": [
    {
     "name": "stdout",
     "output_type": "stream",
     "text": [
      "SVM Metrics:\n",
      "Accuracy: 0.998413985126705\n",
      "Precision: 0.0\n",
      "Recall: 0.0\n",
      "F1 Score: 0.0\n",
      "ROC AUC Score: 0.5\n",
      "Confusion Matrix:\n",
      " [[56656     0]\n",
      " [   90     0]]\n"
     ]
    },
    {
     "name": "stderr",
     "output_type": "stream",
     "text": [
      "C:\\Users\\Aman ur Rehman\\anaconda3\\lib\\site-packages\\sklearn\\metrics\\_classification.py:1471: UndefinedMetricWarning: Precision is ill-defined and being set to 0.0 due to no predicted samples. Use `zero_division` parameter to control this behavior.\n",
      "  _warn_prf(average, modifier, msg_start, len(result))\n"
     ]
    }
   ],
   "source": [
    "\n",
    "# SVM with class weighting\n",
    "svm_classifier = SVC(class_weight=class_weights)\n",
    "svm_classifier.fit(X_train, y_train)\n",
    "y_pred_svm = svm_classifier.predict(X_test)\n",
    "\n",
    "# Evaluation metrics for SVM\n",
    "accuracy_svm = accuracy_score(y_test, y_pred_svm)\n",
    "precision_svm = precision_score(y_test, y_pred_svm)\n",
    "recall_svm = recall_score(y_test, y_pred_svm)\n",
    "f1_svm = f1_score(y_test, y_pred_svm)\n",
    "roc_auc_svm = roc_auc_score(y_test, y_pred_svm)\n",
    "conf_matrix_svm = confusion_matrix(y_test, y_pred_svm)\n",
    "\n",
    "# Print evaluation metrics for SVM\n",
    "print(\"SVM Metrics:\")\n",
    "print(\"Accuracy:\", accuracy_svm)\n",
    "print(\"Precision:\", precision_svm)\n",
    "print(\"Recall:\", recall_svm)\n",
    "print(\"F1 Score:\", f1_svm)\n",
    "print(\"ROC AUC Score:\", roc_auc_svm)\n",
    "print(\"Confusion Matrix:\\n\", conf_matrix_svm)\n"
   ]
  },
  {
   "cell_type": "markdown",
   "id": "6f053690",
   "metadata": {},
   "source": [
    "# Random Forest with Class Weighting"
   ]
  },
  {
   "cell_type": "code",
   "execution_count": 58,
   "id": "20591a58",
   "metadata": {},
   "outputs": [
    {
     "name": "stdout",
     "output_type": "stream",
     "text": [
      "Random Forest Metrics:\n",
      "Accuracy: 0.9985197194515913\n",
      "Precision: 1.0\n",
      "Recall: 0.06666666666666667\n",
      "F1 Score: 0.125\n",
      "ROC AUC Score: 0.5333333333333333\n",
      "Confusion Matrix:\n",
      " [[56656     0]\n",
      " [   84     6]]\n"
     ]
    }
   ],
   "source": [
    "rf_classifier = RandomForestClassifier(class_weight=class_weights, random_state=42)\n",
    "rf_classifier.fit(X_train, y_train)\n",
    "y_pred_rf = rf_classifier.predict(X_test)\n",
    "\n",
    "# Evaluation metrics for Random Forest\n",
    "accuracy_rf = accuracy_score(y_test, y_pred_rf)\n",
    "precision_rf = precision_score(y_test, y_pred_rf)\n",
    "recall_rf = recall_score(y_test, y_pred_rf)\n",
    "f1_rf = f1_score(y_test, y_pred_rf)\n",
    "roc_auc_rf = roc_auc_score(y_test, y_pred_rf)\n",
    "conf_matrix_rf = confusion_matrix(y_test, y_pred_rf)\n",
    "\n",
    "# Print evaluation metrics for Random Forest\n",
    "print(\"Random Forest Metrics:\")\n",
    "print(\"Accuracy:\", accuracy_rf)\n",
    "print(\"Precision:\", precision_rf)\n",
    "print(\"Recall:\", recall_rf)\n",
    "print(\"F1 Score:\", f1_rf)\n",
    "print(\"ROC AUC Score:\", roc_auc_rf)\n",
    "print(\"Confusion Matrix:\\n\", conf_matrix_rf)"
   ]
  },
  {
   "cell_type": "markdown",
   "id": "2c699b22",
   "metadata": {},
   "source": [
    "## Pipeline for comparing baseline model after feature selection.\n"
   ]
  },
  {
   "cell_type": "code",
   "execution_count": 1,
   "id": "3d3cdf10",
   "metadata": {},
   "outputs": [],
   "source": [
    "import pandas as pd\n",
    "import numpy as np\n",
    "from sklearn.pipeline import Pipeline\n",
    "from sklearn.metrics import precision_score, recall_score, f1_score, roc_auc_score, make_scorer\n",
    "from sklearn.preprocessing import StandardScaler\n",
    "from sklearn.model_selection import cross_validate, train_test_split\n",
    "from sklearn.ensemble import RandomForestClassifier\n",
    "from sklearn.linear_model import LogisticRegression\n",
    "from sklearn.svm import SVC\n",
    "from xgboost import XGBClassifier\n",
    "from sklearn.neighbors import KNeighborsClassifier\n",
    "import matplotlib.pyplot as plt\n",
    "from sklearn.metrics import roc_curve, auc\n"
   ]
  },
  {
   "cell_type": "code",
   "execution_count": 2,
   "id": "ae3d41a3",
   "metadata": {},
   "outputs": [],
   "source": [
    "from imblearn.over_sampling import SMOTE\n",
    "from imblearn.pipeline import Pipeline as ImbPipeline\n"
   ]
  },
  {
   "cell_type": "code",
   "execution_count": 3,
   "id": "5f6649fd",
   "metadata": {},
   "outputs": [
    {
     "name": "stderr",
     "output_type": "stream",
     "text": [
      "C:\\Users\\Aman ur Rehman\\anaconda3\\lib\\site-packages\\sklearn\\metrics\\_classification.py:1471: UndefinedMetricWarning: Precision is ill-defined and being set to 0.0 in labels with no predicted samples. Use `zero_division` parameter to control this behavior.\n",
      "  _warn_prf(average, modifier, msg_start, len(result))\n",
      "C:\\Users\\Aman ur Rehman\\anaconda3\\lib\\site-packages\\sklearn\\metrics\\_classification.py:1471: UndefinedMetricWarning: Precision is ill-defined and being set to 0.0 in labels with no predicted samples. Use `zero_division` parameter to control this behavior.\n",
      "  _warn_prf(average, modifier, msg_start, len(result))\n",
      "C:\\Users\\Aman ur Rehman\\anaconda3\\lib\\site-packages\\sklearn\\metrics\\_classification.py:1471: UndefinedMetricWarning: Precision is ill-defined and being set to 0.0 in labels with no predicted samples. Use `zero_division` parameter to control this behavior.\n",
      "  _warn_prf(average, modifier, msg_start, len(result))\n",
      "C:\\Users\\Aman ur Rehman\\anaconda3\\lib\\site-packages\\sklearn\\metrics\\_classification.py:1471: UndefinedMetricWarning: Precision is ill-defined and being set to 0.0 in labels with no predicted samples. Use `zero_division` parameter to control this behavior.\n",
      "  _warn_prf(average, modifier, msg_start, len(result))\n",
      "C:\\Users\\Aman ur Rehman\\anaconda3\\lib\\site-packages\\sklearn\\metrics\\_classification.py:1471: UndefinedMetricWarning: Precision is ill-defined and being set to 0.0 in labels with no predicted samples. Use `zero_division` parameter to control this behavior.\n",
      "  _warn_prf(average, modifier, msg_start, len(result))\n",
      "C:\\Users\\Aman ur Rehman\\anaconda3\\lib\\site-packages\\sklearn\\metrics\\_classification.py:1471: UndefinedMetricWarning: Precision is ill-defined and being set to 0.0 in labels with no predicted samples. Use `zero_division` parameter to control this behavior.\n",
      "  _warn_prf(average, modifier, msg_start, len(result))\n"
     ]
    },
    {
     "name": "stdout",
     "output_type": "stream",
     "text": [
      "\n",
      "Classifier: Random Forest\n",
      "accuracy: 0.5601 (std: 0.3425)\n",
      "precision: 0.9964 (std: 0.0013)\n",
      "recall: 0.5601 (std: 0.3425)\n",
      "f1: 0.6439 (std: 0.3363)\n",
      "roc_auc: 0.4270 (std: 0.0988)\n",
      "\n",
      "Classifier: Logistic Regression\n",
      "accuracy: 0.9982 (std: 0.0000)\n",
      "precision: 0.9967 (std: 0.0001)\n",
      "recall: 0.9982 (std: 0.0000)\n",
      "f1: 0.9975 (std: 0.0000)\n",
      "roc_auc: 0.5010 (std: 0.0021)\n",
      "\n",
      "Classifier: Support Vector Machine\n",
      "accuracy: 0.9983 (std: 0.0000)\n",
      "precision: 0.9967 (std: 0.0000)\n",
      "recall: 0.9983 (std: 0.0000)\n",
      "f1: 0.9975 (std: 0.0000)\n",
      "roc_auc: 0.5000 (std: 0.0000)\n",
      "\n",
      "Classifier: XGBoost\n",
      "accuracy: 0.9839 (std: 0.0135)\n",
      "precision: 0.9969 (std: 0.0003)\n",
      "recall: 0.9839 (std: 0.0135)\n",
      "f1: 0.9902 (std: 0.0069)\n",
      "roc_auc: 0.5612 (std: 0.0901)\n",
      "\n",
      "Classifier: K-Nearest Neighbors\n",
      "accuracy: 0.8890 (std: 0.1361)\n",
      "precision: 0.9968 (std: 0.0003)\n",
      "recall: 0.8890 (std: 0.1361)\n",
      "f1: 0.9337 (std: 0.0829)\n",
      "roc_auc: 0.5178 (std: 0.0643)\n"
     ]
    },
    {
     "name": "stderr",
     "output_type": "stream",
     "text": [
      "C:\\Users\\Aman ur Rehman\\anaconda3\\lib\\site-packages\\sklearn\\metrics\\_classification.py:1471: UndefinedMetricWarning: Precision is ill-defined and being set to 0.0 in labels with no predicted samples. Use `zero_division` parameter to control this behavior.\n",
      "  _warn_prf(average, modifier, msg_start, len(result))\n"
     ]
    }
   ],
   "source": [
    "data = pd.read_csv('C:\\\\Users\\\\Aman ur Rehman\\\\Documents\\\\pca_creditcard.csv')\n",
    "\n",
    "X = data.drop(columns=['Class'])\n",
    "y = data['Class']\n",
    "\n",
    "classifiers = {\n",
    "    'Random Forest': RandomForestClassifier(),\n",
    "    'Logistic Regression': LogisticRegression(max_iter=1000),\n",
    "    'Support Vector Machine': SVC(probability=True),\n",
    "    'XGBoost': XGBClassifier(eval_metric='logloss'),\n",
    "    'K-Nearest Neighbors': KNeighborsClassifier()\n",
    "}\n",
    "\n",
    "scoring = {\n",
    "    'accuracy': 'accuracy',\n",
    "    'precision': make_scorer(precision_score, average='weighted'),\n",
    "    'recall': make_scorer(recall_score, average='weighted'),\n",
    "    'f1': make_scorer(f1_score, average='weighted'),\n",
    "    'roc_auc': make_scorer(roc_auc_score, average='weighted')\n",
    "}\n",
    "\n",
    "pipelines = {}\n",
    "for name, clf in classifiers.items():\n",
    "    if name in ['Support Vector Machine', 'Logistic Regression', 'K-Nearest Neighbors']:\n",
    "        pipelines[name] = Pipeline([\n",
    "            ('scaler', StandardScaler()),\n",
    "            ('classifier', clf)\n",
    "        ])\n",
    "    else:\n",
    "        pipelines[name] = Pipeline([\n",
    "            ('classifier', clf)\n",
    "        ])\n",
    "\n",
    "# cross-validation\n",
    "results = {}\n",
    "for name, pipeline in pipelines.items():\n",
    "    cv_results = cross_validate(pipeline, X, y, cv=5, scoring=scoring, return_train_score=False)\n",
    "    results[name] = cv_results\n",
    "\n",
    "# Print average scores for each classifier\n",
    "for name, scores in results.items():\n",
    "    print(f\"\\nClassifier: {name}\")\n",
    "    for metric in scoring:\n",
    "        print(f\"{metric}: {np.mean(scores['test_' + metric]):.4f} (std: {np.std(scores['test_' + metric]):.4f})\")\n"
   ]
  },
  {
   "cell_type": "code",
   "execution_count": 4,
   "id": "42e2f580",
   "metadata": {},
   "outputs": [
    {
     "data": {
      "image/png": "[encoded data removed]",
      "text/plain": [
       "<Figure size 720x576 with 1 Axes>"
      ]
     },
     "metadata": {
      "needs_background": "light"
     },
     "output_type": "display_data"
    }
   ],
   "source": [
    "# Split the data into training and testing sets\n",
    "X_train, X_test, y_train, y_test = train_test_split(X, y, test_size=0.2, random_state=42, stratify=y)\n",
    "\n",
    "# Fit and plot ROC AUC curves for each classifier\n",
    "plt.figure(figsize=(10, 8))\n",
    "\n",
    "for name, pipeline in pipelines.items():\n",
    "    # Fit the model on the training data\n",
    "    pipeline.fit(X_train, y_train)\n",
    "    \n",
    "    # Predict probabilities on the test data\n",
    "    y_pred_proba = pipeline.predict_proba(X_test)[:, 1]\n",
    "    \n",
    "    # Compute ROC curve and ROC AUC\n",
    "    fpr, tpr, _ = roc_curve(y_test, y_pred_proba)\n",
    "    roc_auc = auc(fpr, tpr)\n",
    "    \n",
    "    # Plot the ROC curve\n",
    "    plt.plot(fpr, tpr, label=f'{name} (AUC = {roc_auc:.2f})')\n",
    "\n",
    "# Plot settings\n",
    "plt.plot([0, 1], [0, 1], 'k--', lw=2)\n",
    "plt.xlim([0.0, 1.0])\n",
    "plt.ylim([0.0, 1.05])\n",
    "plt.xlabel('False Positive Rate')\n",
    "plt.ylabel('True Positive Rate')\n",
    "plt.title('ROC AUC Curves')\n",
    "plt.legend(loc='lower right')\n",
    "plt.show()\n"
   ]
  },
  {
   "cell_type": "markdown",
   "id": "f7d39d06",
   "metadata": {},
   "source": [
    "## Pipeline for comparing model after feature selection and class imbalance algorithms."
   ]
  },
  {
   "cell_type": "markdown",
   "id": "eb44c387",
   "metadata": {},
   "source": [
    "## Smote pipeline"
   ]
  },
  {
   "cell_type": "code",
   "execution_count": 5,
   "id": "f3cef540",
   "metadata": {},
   "outputs": [],
   "source": [
    "pipelines_smote = {}\n",
    "for name, clf in classifiers.items():\n",
    "    if name in ['Support Vector Machine', 'Logistic Regression', 'K-Nearest Neighbors']:\n",
    "        pipelines_smote[name + ' (SMOTE)'] = ImbPipeline([\n",
    "            ('scaler', StandardScaler()),\n",
    "            ('smote', SMOTE(random_state=42)),\n",
    "            ('classifier', clf)\n",
    "        ])\n",
    "    else:\n",
    "        pipelines_smote[name + ' (SMOTE)'] = ImbPipeline([\n",
    "            ('smote', SMOTE(random_state=42)),\n",
    "            ('classifier', clf)\n",
    "        ])\n"
   ]
  },
  {
   "cell_type": "markdown",
   "id": "ae3d3a41",
   "metadata": {},
   "source": [
    "## Class weight pipeline"
   ]
  },
  {
   "cell_type": "code",
   "execution_count": 6,
   "id": "f0ce76bc",
   "metadata": {},
   "outputs": [],
   "source": [
    "class_weights = {0: 1, 1: 10}  \n",
    "pipelines_class_weight = {\n",
    "    'Random Forest (Class Weight)': RandomForestClassifier(class_weight=class_weights, random_state=42),\n",
    "    'Logistic Regression (Class Weight)': LogisticRegression(class_weight=class_weights, max_iter=1000),\n",
    "    'Support Vector Machine (Class Weight)': SVC(class_weight=class_weights, probability=True)\n",
    "}\n"
   ]
  },
  {
   "cell_type": "code",
   "execution_count": 7,
   "id": "8bd87bf1",
   "metadata": {},
   "outputs": [],
   "source": [
    "all_pipelines = {**pipelines_smote, **pipelines_class_weight}"
   ]
  },
  {
   "cell_type": "code",
   "execution_count": null,
   "id": "2403ce5d",
   "metadata": {},
   "outputs": [
    {
     "name": "stderr",
     "output_type": "stream",
     "text": [
      "C:\\Users\\Aman ur Rehman\\anaconda3\\lib\\site-packages\\sklearn\\metrics\\_classification.py:1471: UndefinedMetricWarning: Precision is ill-defined and being set to 0.0 in labels with no predicted samples. Use `zero_division` parameter to control this behavior.\n",
      "  _warn_prf(average, modifier, msg_start, len(result))\n"
     ]
    }
   ],
   "source": [
    "results = {}\n",
    "for name, pipeline in all_pipelines.items():\n",
    "    cv_results = cross_validate(pipeline, X, y, cv=5, scoring=scoring, return_train_score=False)\n",
    "    results[name] = cv_results\n",
    "\n",
    "# Print average scores for each classifier\n",
    "for name, scores in results.items():\n",
    "    print(f\"\\nClassifier: {name}\")\n",
    "    for metric in scoring:\n",
    "        print(f\"{metric}: {np.mean(scores['test_' + metric]):.4f} (std: {np.std(scores['test_' + metric]):.4f})\")\n"
   ]
  },
  {
   "cell_type": "code",
   "execution_count": null,
   "id": "0103d70c",
   "metadata": {},
   "outputs": [],
   "source": [
    "plt.figure(figsize=(10, 8))\n",
    "\n",
    "for name, pipeline in all_pipelines.items():\n",
    "    X_train, X_test, y_train, y_test = train_test_split(X, y, test_size=0.2, random_state=42)\n",
    "    pipeline.fit(X_train, y_train)\n",
    "    if isinstance(pipeline, (Pipeline, make_pipeline)):\n",
    "        y_pred_proba = pipeline.named_steps['classifier'].predict_proba(X_test)[:, 1]\n",
    "    else:\n",
    "        y_pred_proba = pipeline.predict_proba(X_test)[:, 1]\n",
    "    fpr, tpr, _ = roc_curve(y_test, y_pred_proba)\n",
    "    roc_auc = auc(fpr, tpr)\n",
    "    plt.plot(fpr, tpr, label=f'{name} (AUC = {roc_auc:.2f})')\n",
    "\n",
    "plt.plot([0, 1], [0, 1], 'k--')\n",
    "plt.xlim([0.0, 1.0])\n",
    "plt.ylim([0.0, 1.05])\n",
    "plt.xlabel('False Positive Rate')\n",
    "plt.ylabel('True Positive Rate')\n",
    "plt.title('Receiver Operating Characteristic')\n",
    "plt.legend(loc='lower right')\n",
    "plt.show()\n"
   ]
  },
  {
   "cell_type": "code",
   "execution_count": null,
   "id": "cb092ad1",
   "metadata": {},
   "outputs": [],
   "source": [
    "from imblearn.pipeline import make_pipeline"
   ]
  },
  {
   "cell_type": "markdown",
   "id": "04c87b40",
   "metadata": {},
   "source": [
    "BASELINE MODEL EVALUATION\n",
    "\n",
    "Logistic Regression and SVM: Both models show excellent precision, recall, and F1 scores, indicating they predict the majority class (non-fraud) very well due to the class imbalance. However, their ROC AUC values close to 0.5 indicate poor performance in distinguishing between classes.\n",
    "\n",
    "XGBoost: This model achieves the highest ROC AUC (0.5612), suggesting it handles the class imbalance better than others and is more effective in identifying fraudulent transactions.\n",
    "\n",
    "Random Forest and KNN: These models show inconsistencies with high standard deviations in their metrics. Random Forest particularly struggles with a low recall and ROC AUC, while KNN performs slightly better but still shows variability.\n",
    "\n",
    "Given the evaluation metrics, XGBoost is the preferred model as it shows the highest ability to distinguish between classes despite the class imbalance. "
   ]
  },
  {
   "cell_type": "markdown",
   "id": "7d0d2948",
   "metadata": {},
   "source": [
    "CI model evaluation\n",
    "\n",
    "SMOTE: While SMOTE improves recall for some models (e.g., Logistic Regression), it often results in poor precision and F1 scores, with some models (SVM) still failing to identify any fraud cases.\n",
    "Class Weighting: Class weighting provides slight improvements for some models but often results in low recall, indicating that many fraud cases remain undetected. Random Forest with class weighting achieves high precision but very low recall, highlighting the challenge in balancing these metrics.\n",
    "Best Performing Model: XGBoost with SMOTE shows the most promise, with a reasonable balance in precision (0.61) and recall (0.12), and the highest F1 score (0.2) among the evaluated models. However, its ROC AUC score of 0.56."
   ]
  },
  {
   "cell_type": "code",
   "execution_count": null,
   "id": "e8e58e05",
   "metadata": {},
   "outputs": [],
   "source": []
  }
 ],
 "metadata": {
  "kernelspec": {
   "display_name": "Python 3",
   "language": "python",
   "name": "python3"
  },
  "language_info": {
   "codemirror_mode": {
    "name": "ipython",
    "version": 3
   },
   "file_extension": ".py",
   "mimetype": "text/x-python",
   "name": "python",
   "nbconvert_exporter": "python",
   "pygments_lexer": "ipython3",
   "version": "3.8.8"
  }
 },
 "nbformat": 4,
 "nbformat_minor": 5
}

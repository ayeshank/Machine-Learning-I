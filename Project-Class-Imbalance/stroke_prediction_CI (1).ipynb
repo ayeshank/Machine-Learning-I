{
 "cells": [
  {
   "cell_type": "code",
   "execution_count": 15,
   "id": "9410536b",
   "metadata": {},
   "outputs": [
    {
     "name": "stdout",
     "output_type": "stream",
     "text": [
      "Note: you may need to restart the kernel to use updated packages.\n"
     ]
    },
    {
     "name": "stderr",
     "output_type": "stream",
     "text": [
      "'C:\\Users\\Aman' is not recognized as an internal or external command,\n",
      "operable program or batch file.\n"
     ]
    }
   ],
   "source": [
    "pip install pandas matplotlib\n"
   ]
  },
  {
   "cell_type": "code",
   "execution_count": 2,
   "id": "80a53b1d",
   "metadata": {},
   "outputs": [],
   "source": [
    "import pandas as pd"
   ]
  },
  {
   "cell_type": "code",
   "execution_count": 3,
   "id": "077ee69b",
   "metadata": {},
   "outputs": [],
   "source": [
    "import numpy as np"
   ]
  },
  {
   "cell_type": "markdown",
   "id": "d2d0ab64",
   "metadata": {},
   "source": [
    "# Data loading"
   ]
  },
  {
   "cell_type": "code",
   "execution_count": 18,
   "id": "9a359ef0",
   "metadata": {},
   "outputs": [],
   "source": [
    "\n",
    "file_path = r'C:\\Users\\Aman ur Rehman\\Documents\\dataset.csv'\n",
    "\n",
    "data = pd.read_csv(file_path)\n",
    "\n"
   ]
  },
  {
   "cell_type": "code",
   "execution_count": 19,
   "id": "5d462798",
   "metadata": {},
   "outputs": [
    {
     "name": "stdout",
     "output_type": "stream",
     "text": [
      "<bound method NDFrame.head of           id  gender   age  hypertension  heart_disease ever_married  \\\n",
      "0      30669    Male   3.0             0              0           No   \n",
      "1      30468    Male  58.0             1              0          Yes   \n",
      "2      16523  Female   8.0             0              0           No   \n",
      "3      56543  Female  70.0             0              0          Yes   \n",
      "4      46136    Male  14.0             0              0           No   \n",
      "...      ...     ...   ...           ...            ...          ...   \n",
      "43395  56196  Female  10.0             0              0           No   \n",
      "43396   5450  Female  56.0             0              0          Yes   \n",
      "43397  28375  Female  82.0             1              0          Yes   \n",
      "43398  27973    Male  40.0             0              0          Yes   \n",
      "43399  36271  Female  82.0             0              0          Yes   \n",
      "\n",
      "          work_type Residence_type  avg_glucose_level   bmi   smoking_status  \\\n",
      "0          children          Rural              95.12  18.0              NaN   \n",
      "1           Private          Urban              87.96  39.2     never smoked   \n",
      "2           Private          Urban             110.89  17.6              NaN   \n",
      "3           Private          Rural              69.04  35.9  formerly smoked   \n",
      "4      Never_worked          Rural             161.28  19.1              NaN   \n",
      "...             ...            ...                ...   ...              ...   \n",
      "43395      children          Urban              58.64  20.4     never smoked   \n",
      "43396      Govt_job          Urban             213.61  55.4  formerly smoked   \n",
      "43397       Private          Urban              91.94  28.9  formerly smoked   \n",
      "43398       Private          Urban              99.16  33.2     never smoked   \n",
      "43399       Private          Urban              79.48  20.6     never smoked   \n",
      "\n",
      "       stroke  \n",
      "0           0  \n",
      "1           0  \n",
      "2           0  \n",
      "3           0  \n",
      "4           0  \n",
      "...       ...  \n",
      "43395       0  \n",
      "43396       0  \n",
      "43397       0  \n",
      "43398       0  \n",
      "43399       0  \n",
      "\n",
      "[43400 rows x 12 columns]>\n"
     ]
    }
   ],
   "source": [
    "print(data.head)"
   ]
  },
  {
   "cell_type": "code",
   "execution_count": 20,
   "id": "5ee3c5af",
   "metadata": {},
   "outputs": [
    {
     "name": "stdout",
     "output_type": "stream",
     "text": [
      "\n",
      "Dataset Statistics:\n",
      "                 id           age  hypertension  heart_disease  \\\n",
      "count  43400.000000  43400.000000  43400.000000   43400.000000   \n",
      "mean   36326.142350     42.217894      0.093571       0.047512   \n",
      "std    21072.134879     22.519649      0.291235       0.212733   \n",
      "min        1.000000      0.080000      0.000000       0.000000   \n",
      "25%    18038.500000     24.000000      0.000000       0.000000   \n",
      "50%    36351.500000     44.000000      0.000000       0.000000   \n",
      "75%    54514.250000     60.000000      0.000000       0.000000   \n",
      "max    72943.000000     82.000000      1.000000       1.000000   \n",
      "\n",
      "       avg_glucose_level           bmi        stroke  \n",
      "count       43400.000000  41938.000000  43400.000000  \n",
      "mean          104.482750     28.605038      0.018041  \n",
      "std            43.111751      7.770020      0.133103  \n",
      "min            55.000000     10.100000      0.000000  \n",
      "25%            77.540000     23.200000      0.000000  \n",
      "50%            91.580000     27.700000      0.000000  \n",
      "75%           112.070000     32.900000      0.000000  \n",
      "max           291.050000     97.600000      1.000000  \n"
     ]
    }
   ],
   "source": [
    "\n",
    "print(\"\\nDataset Statistics:\")\n",
    "print(data.describe())\n",
    "\n"
   ]
  },
  {
   "cell_type": "markdown",
   "id": "60800e4f",
   "metadata": {},
   "source": [
    "# checking class imbalance"
   ]
  },
  {
   "cell_type": "code",
   "execution_count": 21,
   "id": "b500451b",
   "metadata": {},
   "outputs": [
    {
     "name": "stdout",
     "output_type": "stream",
     "text": [
      "\n",
      "Class Distribution:\n",
      "0    42617\n",
      "1      783\n",
      "Name: stroke, dtype: int64\n"
     ]
    }
   ],
   "source": [
    "\n",
    "print(\"\\nClass Distribution:\")\n",
    "print(data['stroke'].value_counts())"
   ]
  },
  {
   "cell_type": "code",
   "execution_count": 22,
   "id": "623a4b09",
   "metadata": {},
   "outputs": [],
   "source": [
    "import pandas as pd\n",
    "import numpy as np\n",
    "import matplotlib.pyplot as plt\n",
    "import seaborn as sns\n",
    "\n"
   ]
  },
  {
   "cell_type": "code",
   "execution_count": 23,
   "id": "50ee89ee",
   "metadata": {},
   "outputs": [
    {
     "data": {
      "image/png": "[encoded data removed]",
      "text/plain": [
       "<Figure size 576x432 with 1 Axes>"
      ]
     },
     "metadata": {
      "needs_background": "light"
     },
     "output_type": "display_data"
    }
   ],
   "source": [
    "\n",
    "\n",
    "counts = data['stroke'].value_counts()\n",
    "plt.figure(figsize=(8, 6))\n",
    "sns.barplot(x=counts.index, y=counts.values, palette='viridis') \n",
    "plt.title('Class Distribution')\n",
    "plt.ylabel('Frequency')\n",
    "plt.xlabel('Class (0: no stroke, 1: stroke)')\n",
    "plt.xticks(range(2), ['no stroke', 'stroke'])\n",
    "plt.show()\n"
   ]
  },
  {
   "cell_type": "markdown",
   "id": "ac51361f",
   "metadata": {},
   "source": [
    "# Correlation matrix"
   ]
  },
  {
   "cell_type": "code",
   "execution_count": 24,
   "id": "5d48d106",
   "metadata": {},
   "outputs": [
    {
     "data": {
      "image/png": "[encoded data removed]",
      "text/plain": [
       "<Figure size 720x576 with 2 Axes>"
      ]
     },
     "metadata": {
      "needs_background": "light"
     },
     "output_type": "display_data"
    }
   ],
   "source": [
    "\n",
    "corr = data.corr()\n",
    "\n",
    "plt.figure(figsize=(10, 8))\n",
    "sns.heatmap(corr, cmap='viridis', annot=False)  \n",
    "plt.title('Correlation Matrix')\n",
    "plt.show()\n"
   ]
  },
  {
   "cell_type": "code",
   "execution_count": 25,
   "id": "65ec72f5",
   "metadata": {},
   "outputs": [
    {
     "name": "stdout",
     "output_type": "stream",
     "text": [
      "                         id       age  hypertension  heart_disease  \\\n",
      "id                 1.000000  0.012760      0.006571       0.009234   \n",
      "age                0.012760  1.000000      0.272169       0.250188   \n",
      "hypertension       0.006571  0.272169      1.000000       0.119777   \n",
      "heart_disease      0.009234  0.250188      0.119777       1.000000   \n",
      "avg_glucose_level  0.024634  0.237627      0.160211       0.146938   \n",
      "bmi                0.018839  0.358897      0.161225       0.057677   \n",
      "stroke             0.002976  0.156049      0.075332       0.113763   \n",
      "\n",
      "                   avg_glucose_level       bmi    stroke  \n",
      "id                          0.024634  0.018839  0.002976  \n",
      "age                         0.237627  0.358897  0.156049  \n",
      "hypertension                0.160211  0.161225  0.075332  \n",
      "heart_disease               0.146938  0.057677  0.113763  \n",
      "avg_glucose_level           1.000000  0.191295  0.078917  \n",
      "bmi                         0.191295  1.000000  0.020285  \n",
      "stroke                      0.078917  0.020285  1.000000  \n"
     ]
    }
   ],
   "source": [
    "# Calculate correlation matrix\n",
    "corr = data.corr()\n",
    "\n",
    "# Calculate correlation matrix\n",
    "corr = data.corr()\n",
    "\n",
    "\n",
    "print(corr)"
   ]
  },
  {
   "cell_type": "markdown",
   "id": "2a4c328e",
   "metadata": {},
   "source": [
    "correlation threshold of 0.9."
   ]
  },
  {
   "cell_type": "markdown",
   "id": "a6e55b50",
   "metadata": {},
   "source": [
    "Based on the  correlation matrix, there are no pairs of variables in the dataset that are highly correlated. The highest correlation, between age and bmi, is only moderate at 0.358897."
   ]
  },
  {
   "cell_type": "markdown",
   "id": "ca82d0a6",
   "metadata": {},
   "source": [
    "## Box Plot"
   ]
  },
  {
   "cell_type": "code",
   "execution_count": 27,
   "id": "8f60c611",
   "metadata": {},
   "outputs": [
    {
     "data": {
      "image/png": "[encoded data removed]",
      "text/plain": [
       "<Figure size 1440x1080 with 7 Axes>"
      ]
     },
     "metadata": {
      "needs_background": "light"
     },
     "output_type": "display_data"
    }
   ],
   "source": [
    "\n",
    "plt.figure(figsize=(20, 15))  \n",
    "\n",
    "numerical_cols = ['id', 'age', 'hypertension', 'heart_disease', 'avg_glucose_level', 'bmi', 'stroke']\n",
    "\n",
    "for i, column in enumerate(numerical_cols, 1):\n",
    "    plt.subplot(3, 3, i) \n",
    "    sns.boxplot(y=data[column])\n",
    "    plt.title(f'Box plot of {column}')\n",
    "\n",
    "plt.tight_layout()  \n",
    "plt.show()"
   ]
  },
  {
   "cell_type": "markdown",
   "id": "47f7730d",
   "metadata": {},
   "source": [
    "Imbalance: Variables like hypertension, heart_disease, and stroke are highly imbalanced, with the majority of values being 0.\n",
    "\n",
    "Outliers: Significant outliers are present in avg_glucose_level and bmi.\n",
    "\n",
    "Skewness: Both avg_glucose_level and bmi distributions are right-skewed."
   ]
  },
  {
   "cell_type": "code",
   "execution_count": 28,
   "id": "f7ab8c35",
   "metadata": {},
   "outputs": [
    {
     "name": "stdout",
     "output_type": "stream",
     "text": [
      "id                       0\n",
      "gender                   0\n",
      "age                      0\n",
      "hypertension             0\n",
      "heart_disease            0\n",
      "ever_married             0\n",
      "work_type                0\n",
      "Residence_type           0\n",
      "avg_glucose_level        0\n",
      "bmi                   1462\n",
      "smoking_status       13292\n",
      "stroke                   0\n",
      "dtype: int64\n"
     ]
    }
   ],
   "source": [
    "print(data.isnull().sum())"
   ]
  },
  {
   "cell_type": "code",
   "execution_count": 30,
   "id": "71e9af1d",
   "metadata": {},
   "outputs": [],
   "source": [
    "data.dropna(subset=['bmi', 'smoking_status'], inplace=True)\n"
   ]
  },
  {
   "cell_type": "code",
   "execution_count": 31,
   "id": "3fa07df6",
   "metadata": {},
   "outputs": [
    {
     "name": "stdout",
     "output_type": "stream",
     "text": [
      "id                   0\n",
      "gender               0\n",
      "age                  0\n",
      "hypertension         0\n",
      "heart_disease        0\n",
      "ever_married         0\n",
      "work_type            0\n",
      "Residence_type       0\n",
      "avg_glucose_level    0\n",
      "bmi                  0\n",
      "smoking_status       0\n",
      "stroke               0\n",
      "dtype: int64\n"
     ]
    }
   ],
   "source": [
    "print(data.isnull().sum())"
   ]
  },
  {
   "cell_type": "markdown",
   "id": "534513f7",
   "metadata": {},
   "source": [
    "# Removing duplicate rows"
   ]
  },
  {
   "cell_type": "code",
   "execution_count": 33,
   "id": "881d18ae",
   "metadata": {},
   "outputs": [
    {
     "name": "stdout",
     "output_type": "stream",
     "text": [
      "Number of duplicate rows: 0\n"
     ]
    }
   ],
   "source": [
    "print(f'Number of duplicate rows: {data.duplicated().sum()}')\n"
   ]
  },
  {
   "cell_type": "code",
   "execution_count": 34,
   "id": "43ddc254",
   "metadata": {},
   "outputs": [
    {
     "name": "stdout",
     "output_type": "stream",
     "text": [
      "Data shape after removing missing values: (29072, 12)\n"
     ]
    }
   ],
   "source": [
    "print(\"Data shape after removing missing values:\", data.shape)"
   ]
  },
  {
   "cell_type": "markdown",
   "id": "5e191568",
   "metadata": {},
   "source": [
    "# checking data types"
   ]
  },
  {
   "cell_type": "code",
   "execution_count": 35,
   "id": "7c5dbb5e",
   "metadata": {},
   "outputs": [
    {
     "name": "stdout",
     "output_type": "stream",
     "text": [
      "id                     int64\n",
      "gender                object\n",
      "age                  float64\n",
      "hypertension           int64\n",
      "heart_disease          int64\n",
      "ever_married          object\n",
      "work_type             object\n",
      "Residence_type        object\n",
      "avg_glucose_level    float64\n",
      "bmi                  float64\n",
      "smoking_status        object\n",
      "stroke                 int64\n",
      "dtype: object\n"
     ]
    }
   ],
   "source": [
    "print(data.dtypes)"
   ]
  },
  {
   "cell_type": "code",
   "execution_count": 36,
   "id": "a88b9c31",
   "metadata": {},
   "outputs": [],
   "source": [
    "from scipy import stats"
   ]
  },
  {
   "cell_type": "markdown",
   "id": "35216815",
   "metadata": {},
   "source": [
    "# DEALING WITH OUTLIERS "
   ]
  },
  {
   "cell_type": "code",
   "execution_count": 39,
   "id": "b63a5f33",
   "metadata": {},
   "outputs": [],
   "source": [
    "def cap_outliers(series):\n",
    "    upper_limit = series.quantile(0.99)\n",
    "    return np.where(series > upper_limit, upper_limit, series)\n",
    "\n",
    "data['avg_glucose_level'] = cap_outliers(data['avg_glucose_level'])\n",
    "data['bmi'] = cap_outliers(data['bmi'])"
   ]
  },
  {
   "cell_type": "markdown",
   "id": "ad476d48",
   "metadata": {},
   "source": [
    "# DEALING WITH SKEWNESS"
   ]
  },
  {
   "cell_type": "code",
   "execution_count": 43,
   "id": "14423b70",
   "metadata": {},
   "outputs": [],
   "source": [
    "data['avg_glucose_level'] = np.log1p(data['avg_glucose_level'])\n",
    "data['bmi'] = np.log1p(data['bmi'])"
   ]
  },
  {
   "cell_type": "code",
   "execution_count": 44,
   "id": "19b11806",
   "metadata": {},
   "outputs": [
    {
     "name": "stdout",
     "output_type": "stream",
     "text": [
      "\n",
      "Class Distribution:\n",
      "0    28524\n",
      "1      548\n",
      "Name: stroke, dtype: int64\n"
     ]
    }
   ],
   "source": [
    "print(\"\\nClass Distribution:\")\n",
    "print(data['stroke'].value_counts())"
   ]
  },
  {
   "cell_type": "code",
   "execution_count": 49,
   "id": "b6d76124",
   "metadata": {},
   "outputs": [],
   "source": [
    "# Save to new CSV file\n",
    "data.to_csv('C:\\\\Users\\\\Aman ur Rehman\\\\Documents\\\\stroke_prediction.csv', index=False)\n"
   ]
  },
  {
   "cell_type": "markdown",
   "id": "24353d51",
   "metadata": {},
   "source": [
    "# ONE HOT ENCODING"
   ]
  },
  {
   "cell_type": "code",
   "execution_count": 55,
   "id": "2b200193",
   "metadata": {},
   "outputs": [],
   "source": [
    "data_path = r'C:\\\\Users\\\\Aman ur Rehman\\\\Documents\\\\stroke_prediction.csv'\n",
    "cleaned_data = pd.read_csv(data_path)\n",
    "\n",
    "categorical_columns = ['gender', 'ever_married', 'work_type', 'Residence_type', 'smoking_status']\n",
    "\n",
    "# Perform one-hot encoding on categorical variables\n",
    "cleaned_data_encoded = pd.get_dummies(cleaned_data, columns=categorical_columns)\n",
    "\n",
    "# Separate features (X) and target variable (y)\n",
    "X = cleaned_data_encoded.drop(columns=['stroke'])\n",
    "y = cleaned_data_encoded['stroke']"
   ]
  },
  {
   "cell_type": "markdown",
   "id": "2a218fd2",
   "metadata": {},
   "source": [
    "# PCA with 6 components"
   ]
  },
  {
   "cell_type": "code",
   "execution_count": 54,
   "id": "d92db1e3",
   "metadata": {},
   "outputs": [
    {
     "name": "stdout",
     "output_type": "stream",
     "text": [
      "Number of features before PCA transformation: 21\n",
      "Number of features after PCA transformation: 6\n",
      "Number of features removed by PCA: 15\n",
      "Explained variance ratio of the principal components: [0.14249405 0.09833777 0.09533008 0.08404409 0.07426207 0.06316674]\n",
      "Total explained variance by 6 components: 0.55763480064938\n"
     ]
    },
    {
     "data": {
      "image/png": "[encoded data removed]",
      "text/plain": [
       "<Figure size 576x432 with 1 Axes>"
      ]
     },
     "metadata": {
      "needs_background": "light"
     },
     "output_type": "display_data"
    }
   ],
   "source": [
    "from sklearn.preprocessing import StandardScaler\n",
    "from sklearn.decomposition import PCA\n",
    "\n",
    "\n",
    "# Standardize the features before applying PCA\n",
    "scaler = StandardScaler()\n",
    "X_scaled = scaler.fit_transform(X)\n",
    "\n",
    "min_num_components = 6 \n",
    "pca = PCA(n_components=min_num_components, svd_solver='full')  \n",
    "\n",
    "# Fit PCA on the scaled features\n",
    "X_pca = pca.fit_transform(X_scaled)\n",
    "\n",
    "# Retrieve the names of the original features\n",
    "feature_names = X.columns\n",
    "\n",
    "components = pca.components_\n",
    "\n",
    "# Create a DataFrame for components to see the contribution of each original feature\n",
    "components_df = pd.DataFrame(components, columns=feature_names)\n",
    "\n",
    "# Save PCA-transformed features to a new CSV file\n",
    "pca_df = pd.DataFrame(data=X_pca, columns=[f'PC{i}' for i in range(1, min_num_components + 1)])\n",
    "pca_df['stroke'] = y  # Add the target variable back\n",
    "output_path = r'C:\\\\Users\\\\Aman ur Rehman\\\\Documents\\\\stroke_prediction_pca.csv'\n",
    "pca_df.to_csv(output_path, index=False)\n",
    "\n",
    "# Print summary\n",
    "print(f\"Number of features before PCA transformation: {X.shape[1]}\")\n",
    "print(f\"Number of features after PCA transformation: {X_pca.shape[1]}\")\n",
    "print(f\"Number of features removed by PCA: {X.shape[1] - X_pca.shape[1]}\")\n",
    "\n",
    "# Print explained variance ratio\n",
    "explained_variance_ratio = pca.explained_variance_ratio_\n",
    "print(f\"Explained variance ratio of the principal components: {explained_variance_ratio}\")\n",
    "print(f\"Total explained variance by {min_num_components} components: {explained_variance_ratio.sum()}\")\n",
    "\n",
    "# Plot explained variance ratio\n",
    "plt.figure(figsize=(8, 6))\n",
    "plt.bar(range(1, min_num_components + 1), explained_variance_ratio, alpha=0.5, align='center')\n",
    "plt.xlabel('Principal Components')\n",
    "plt.ylabel('Explained Variance Ratio')\n",
    "plt.title('Explained Variance Ratio of Principal Components')\n",
    "plt.show()\n"
   ]
  },
  {
   "cell_type": "markdown",
   "id": "74f3e2d2",
   "metadata": {},
   "source": [
    "# PCA with  components explaining 95% variance"
   ]
  },
  {
   "cell_type": "code",
   "execution_count": 61,
   "id": "d036d828",
   "metadata": {},
   "outputs": [
    {
     "name": "stdout",
     "output_type": "stream",
     "text": [
      "Number of features before PCA transformation: 15\n",
      "Number of features after PCA transformation: 15\n",
      "Number of features removed by PCA: 0\n",
      "Explained variance ratio of the principal components: [0.06666667 0.06666667 0.06666667 0.06666667 0.06666667 0.06666667\n",
      " 0.06666667 0.06666667 0.06666667 0.06666667 0.06666667 0.06666667\n",
      " 0.06666667 0.06666667 0.06666667]\n",
      "Total explained variance by 15 components: 1.0\n"
     ]
    }
   ],
   "source": [
    "from sklearn.preprocessing import StandardScaler\n",
    "from sklearn.decomposition import PCA\n",
    "import pandas as pd\n",
    "\n",
    "# Standardize the features before applying PCA\n",
    "scaler = StandardScaler()\n",
    "X_scaled = scaler.fit_transform(X)\n",
    "\n",
    "# variance ratio\n",
    "desired_variance_ratio = 0.95\n",
    "pca = PCA(n_components=desired_variance_ratio)\n",
    "\n",
    "# Fit PCA on the scaled features\n",
    "X_pca = pca.fit_transform(X_scaled)\n",
    "\n",
    "# Retrieve the names of the original features\n",
    "feature_names = X.columns\n",
    "\n",
    "# Calculate the contribution of each original feature to the principal components\n",
    "components = pca.components_\n",
    "\n",
    "# Create a DataFrame for components to see the contribution of each original feature\n",
    "components_df = pd.DataFrame(components, columns=feature_names)\n",
    "\n",
    "# Save PCA-transformed features to a new CSV file\n",
    "pca_df = pd.DataFrame(data=X_pca, columns=[f'PC{i}' for i in range(1, pca.n_components_ + 1)])\n",
    "pca_df['stroke'] = y  \n",
    "output_path = r'C:\\\\Users\\\\Aman ur Rehman\\\\Documents\\\\stroke_prediction_pca_1.csv'\n",
    "pca_df.to_csv(output_path, index=False)\n",
    "\n",
    "# Print summary\n",
    "print(f\"Number of features before PCA transformation: {X.shape[1]}\")\n",
    "print(f\"Number of features after PCA transformation: {X_pca.shape[1]}\")\n",
    "print(f\"Number of features removed by PCA: {X.shape[1] - X_pca.shape[1]}\")\n",
    "\n",
    "# Print explained variance ratio\n",
    "explained_variance_ratio = pca.explained_variance_ratio_\n",
    "print(f\"Explained variance ratio of the principal components: {explained_variance_ratio}\")\n",
    "print(f\"Total explained variance by {X_pca.shape[1]} components: {explained_variance_ratio.sum()}\")\n"
   ]
  },
  {
   "cell_type": "markdown",
   "id": "11303074",
   "metadata": {},
   "source": [
    "# Logistic Regression for feature selection"
   ]
  },
  {
   "cell_type": "code",
   "execution_count": 59,
   "id": "b2c3c5bd",
   "metadata": {},
   "outputs": [
    {
     "name": "stdout",
     "output_type": "stream",
     "text": [
      "Selected Features:\n",
      "Index(['PC1', 'PC2', 'PC3', 'PC4', 'PC5', 'PC6', 'PC7', 'PC8', 'PC10', 'PC11',\n",
      "       'PC12', 'PC13', 'PC14', 'PC15'],\n",
      "      dtype='object')\n"
     ]
    }
   ],
   "source": [
    "from sklearn.linear_model import LogisticRegression\n",
    "from sklearn.feature_selection import SelectFromModel\n",
    "import pandas as pd\n",
    "\n",
    "pca_data = pd.read_csv('C:\\\\Users\\\\Aman ur Rehman\\\\Documents\\\\stroke_prediction_pca_1.csv')\n",
    "\n",
    "# Separate features (X) and target variable (y)\n",
    "X = pca_data.drop(columns=['stroke'])  \n",
    "y = pca_data['stroke']\n",
    "\n",
    "#  Logistic Regression model with L1 penalty\n",
    "logistic_reg = LogisticRegression(penalty='l1', solver='liblinear', C=1, random_state=42)\n",
    "\n",
    "# Perform feature selection\n",
    "selector = SelectFromModel(logistic_reg)\n",
    "selector.fit(X, y)\n",
    "\n",
    "selected_features = X.columns[selector.get_support()]\n",
    "\n",
    "# Print selected features\n",
    "print(\"Selected Features:\")\n",
    "print(selected_features)\n",
    "\n",
    "# Transform the dataset to include only selected features\n",
    "X_selected = selector.transform(X)\n",
    "\n",
    "# Create a DataFrame with selected features\n",
    "selected_data = pd.DataFrame(data=X_selected, columns=selected_features)\n",
    "selected_data['Class'] = y  # Add the target variable back\n",
    "\n",
    "# Save selected features to a new CSV file\n",
    "selected_data.to_csv('C:\\\\Users\\\\Aman ur Rehman\\\\Documents\\\\selected_features_pca1.csv', index=False)\n",
    "\n"
   ]
  },
  {
   "cell_type": "markdown",
   "id": "51f1aa4c",
   "metadata": {},
   "source": [
    "L1 did not remove any features.This can be because all features in the PCA-transformed data might contribute significantly to the model, making it difficult for L1 regularization to zero out any coefficients."
   ]
  },
  {
   "cell_type": "markdown",
   "id": "4ff7141d",
   "metadata": {},
   "source": [
    "# Mutual information applied on 15 features to select top 10."
   ]
  },
  {
   "cell_type": "code",
   "execution_count": 65,
   "id": "57db3e5b",
   "metadata": {},
   "outputs": [
    {
     "name": "stdout",
     "output_type": "stream",
     "text": [
      "   Feature  Mutual_Information\n",
      "11    PC12            0.007773\n",
      "10    PC11            0.003522\n",
      "8      PC9            0.003137\n",
      "1      PC2            0.002057\n",
      "4      PC5            0.002054\n",
      "6      PC7            0.001368\n",
      "7      PC8            0.001070\n",
      "12    PC13            0.000943\n",
      "5      PC6            0.000767\n",
      "0      PC1            0.000729\n",
      "3      PC4            0.000724\n",
      "9     PC10            0.000524\n",
      "13    PC14            0.000484\n",
      "14    PC15            0.000306\n",
      "2      PC3            0.000000\n",
      "Top 10 Features based on Mutual Information:\n",
      "11    PC12\n",
      "10    PC11\n",
      "8      PC9\n",
      "1      PC2\n",
      "4      PC5\n",
      "6      PC7\n",
      "7      PC8\n",
      "12    PC13\n",
      "5      PC6\n",
      "0      PC1\n",
      "Name: Feature, dtype: object\n"
     ]
    }
   ],
   "source": [
    "from sklearn.feature_selection import mutual_info_classif\n",
    "\n",
    "data = pd.read_csv('C:\\\\Users\\\\Aman ur Rehman\\\\Documents\\\\stroke_prediction_pca_1.csv')\n",
    "\n",
    "# Separate features and target variable\n",
    "X = data.drop(columns=['stroke'])\n",
    "y = data['stroke']\n",
    "\n",
    "# Compute mutual information scores\n",
    "mi_scores = mutual_info_classif(X, y)\n",
    "\n",
    "# Create a DataFrame to display feature names and their mutual information scores\n",
    "mi_scores_df = pd.DataFrame({'Feature': X.columns, 'Mutual_Information': mi_scores})\n",
    "mi_scores_df = mi_scores_df.sort_values(by='Mutual_Information', ascending=False)\n",
    "\n",
    "# Display the DataFrame\n",
    "print(mi_scores_df)\n",
    "\n",
    "# Select the top N features\n",
    "N = 10  \n",
    "top_features = mi_scores_df.head(N)['Feature']\n",
    "\n",
    "X_selected = X[top_features]\n",
    "\n",
    "# Create a DataFrame with the selected features\n",
    "selected_data = X_selected.copy()\n",
    "selected_data['stroke'] = y  \n",
    "\n",
    "# Save the selected features to a new CSV file\n",
    "selected_data.to_csv('C:\\\\Users\\\\Aman ur Rehman\\\\Documents\\\\selected_features_mi1.csv', index=False)\n",
    "\n",
    "# Display the selected features\n",
    "print(f\"Top {N} Features based on Mutual Information:\")\n",
    "print(top_features)\n"
   ]
  },
  {
   "cell_type": "code",
   "execution_count": null,
   "id": "5b7d1a57",
   "metadata": {},
   "outputs": [],
   "source": []
  },
  {
   "cell_type": "markdown",
   "id": "3fef3919",
   "metadata": {},
   "source": [
    "# Using PCA to determine the variance explained by the top 10 features"
   ]
  },
  {
   "cell_type": "code",
   "execution_count": 66,
   "id": "9a16cb8d",
   "metadata": {},
   "outputs": [
    {
     "name": "stdout",
     "output_type": "stream",
     "text": [
      "Explained variance ratio by each principal component:\n",
      "[0.1 0.1 0.1 0.1 0.1 0.1 0.1 0.1 0.1 0.1]\n",
      "Cumulative explained variance by principal components:\n",
      "[0.1 0.2 0.3 0.4 0.5 0.6 0.7 0.8 0.9 1. ]\n"
     ]
    }
   ],
   "source": [
    "from sklearn.decomposition import PCA\n",
    "\n",
    "selected_data = pd.read_csv('C:\\\\Users\\\\Aman ur Rehman\\\\Documents\\\\selected_features_mi1.csv')\n",
    "\n",
    "# Separate features and target variable\n",
    "X_selected = selected_data.drop(columns=['stroke'])\n",
    "y = selected_data['stroke']\n",
    "\n",
    "# Apply PCA to the selected features\n",
    "pca = PCA()\n",
    "X_pca = pca.fit_transform(X_selected)\n",
    "\n",
    "# Calculate the explained variance ratio\n",
    "explained_variance_ratio = pca.explained_variance_ratio_\n",
    "total_explained_variance = explained_variance_ratio.cumsum()\n",
    "\n",
    "print(\"Explained variance ratio by each principal component:\")\n",
    "print(explained_variance_ratio)\n",
    "\n",
    "print(\"Cumulative explained variance by principal components:\")\n",
    "print(total_explained_variance)\n",
    "\n"
   ]
  },
  {
   "cell_type": "markdown",
   "id": "564f4673",
   "metadata": {},
   "source": [
    "# MODEL TRAINING - RANDOM FOREST CLASSIFIER"
   ]
  },
  {
   "cell_type": "code",
   "execution_count": 4,
   "id": "9746f902",
   "metadata": {},
   "outputs": [
    {
     "name": "stdout",
     "output_type": "stream",
     "text": [
      "Accuracy of Random Forest Classifier: 0.9814273430782459\n"
     ]
    }
   ],
   "source": [
    "from sklearn.ensemble import RandomForestClassifier\n",
    "from sklearn.model_selection import train_test_split\n",
    "from sklearn.metrics import accuracy_score\n",
    "\n",
    "# Load the PCA-transformed dataset after top k selection\n",
    "pca_data = pd.read_csv('C:\\\\Users\\\\Aman ur Rehman\\\\Documents\\\\selected_features_mi1.csv')\n",
    "\n",
    "X_pca = pca_data.drop(columns=['stroke'])\n",
    "y = pca_data['stroke']\n",
    "X_train, X_test, y_train, y_test = train_test_split(X_pca, y, test_size=0.2, random_state=42)\n",
    "rf_classifier = RandomForestClassifier(random_state=42)\n",
    "rf_classifier.fit(X_train, y_train)\n",
    "y_pred = rf_classifier.predict(X_test)\n",
    "\n",
    "accuracy = accuracy_score(y_test, y_pred)\n",
    "print(f\"Accuracy of Random Forest Classifier: {accuracy}\")\n"
   ]
  },
  {
   "cell_type": "code",
   "execution_count": 5,
   "id": "680b732f",
   "metadata": {},
   "outputs": [
    {
     "name": "stdout",
     "output_type": "stream",
     "text": [
      "Accuracy: 0.9814273430782459\n",
      "Precision: 0.0\n",
      "Recall: 0.0\n",
      "F1 Score: 0.0\n",
      "Confusion Matrix:\n",
      "[[5707    0]\n",
      " [ 108    0]]\n"
     ]
    },
    {
     "name": "stderr",
     "output_type": "stream",
     "text": [
      "C:\\Users\\Aman ur Rehman\\anaconda3\\lib\\site-packages\\sklearn\\metrics\\_classification.py:1471: UndefinedMetricWarning: Precision is ill-defined and being set to 0.0 due to no predicted samples. Use `zero_division` parameter to control this behavior.\n",
      "  _warn_prf(average, modifier, msg_start, len(result))\n"
     ]
    }
   ],
   "source": [
    "from sklearn.metrics import accuracy_score, precision_score, recall_score, f1_score, confusion_matrix\n",
    "\n",
    "# Calculate accuracy\n",
    "accuracy = accuracy_score(y_test, y_pred)\n",
    "print(f\"Accuracy: {accuracy}\")\n",
    "\n",
    "# Calculate precision\n",
    "precision = precision_score(y_test, y_pred)\n",
    "print(f\"Precision: {precision}\")\n",
    "\n",
    "# Calculate recall\n",
    "recall = recall_score(y_test, y_pred)\n",
    "print(f\"Recall: {recall}\")\n",
    "\n",
    "# Calculate F1 score\n",
    "f1 = f1_score(y_test, y_pred)\n",
    "print(f\"F1 Score: {f1}\")\n",
    "\n",
    "# Calculate confusion matrix\n",
    "conf_matrix = confusion_matrix(y_test, y_pred)\n",
    "print(\"Confusion Matrix:\")\n",
    "print(conf_matrix)\n",
    "\n"
   ]
  },
  {
   "cell_type": "markdown",
   "id": "6134aa50",
   "metadata": {},
   "source": [
    "# CROSS VALIDATION"
   ]
  },
  {
   "cell_type": "code",
   "execution_count": 6,
   "id": "f1ee0f3f",
   "metadata": {},
   "outputs": [
    {
     "name": "stdout",
     "output_type": "stream",
     "text": [
      "Cross-validation Scores: [0.9810834  0.98086844 0.98086433 0.98086433 0.98107934]\n",
      "Mean CV Score: 0.9809519693894361\n"
     ]
    }
   ],
   "source": [
    "from sklearn.model_selection import cross_val_score\n",
    "\n",
    "# Initialize Random Forest classifier\n",
    "rf_classifier = RandomForestClassifier()\n",
    "\n",
    "# Perform cross-validation\n",
    "cv_scores = cross_val_score(rf_classifier, X_train, y_train, cv=5)\n",
    "\n",
    "# Print cross-validation scores\n",
    "print(\"Cross-validation Scores:\", cv_scores)\n",
    "print(\"Mean CV Score:\", cv_scores.mean())\n",
    "\n"
   ]
  },
  {
   "cell_type": "markdown",
   "id": "8095b8fb",
   "metadata": {},
   "source": [
    "# Logistic Regression with Cross-Validation"
   ]
  },
  {
   "cell_type": "code",
   "execution_count": 7,
   "id": "c229db02",
   "metadata": {},
   "outputs": [
    {
     "name": "stdout",
     "output_type": "stream",
     "text": [
      "Accuracy: 0.9810809648707915\n",
      "Precision: 0.0\n",
      "Recall: 0.0\n",
      "F1 Score: 0.0\n",
      "ROC AUC Score: 0.5\n",
      "Confusion Matrix:\n",
      " [[22817     0]\n",
      " [  440     0]]\n"
     ]
    },
    {
     "name": "stderr",
     "output_type": "stream",
     "text": [
      "C:\\Users\\Aman ur Rehman\\anaconda3\\lib\\site-packages\\sklearn\\metrics\\_classification.py:1471: UndefinedMetricWarning: Precision is ill-defined and being set to 0.0 due to no predicted samples. Use `zero_division` parameter to control this behavior.\n",
      "  _warn_prf(average, modifier, msg_start, len(result))\n"
     ]
    }
   ],
   "source": [
    "from sklearn.linear_model import LogisticRegression\n",
    "from sklearn.model_selection import cross_val_predict\n",
    "from sklearn.metrics import accuracy_score, precision_score, recall_score, f1_score, roc_auc_score, confusion_matrix\n",
    "\n",
    "# Initialize Logistic Regression classifier\n",
    "lr_classifier = LogisticRegression()\n",
    "\n",
    "# Perform cross-validation\n",
    "y_pred = cross_val_predict(lr_classifier, X_train, y_train, cv=5)\n",
    "\n",
    "# Calculate evaluation metrics\n",
    "accuracy = accuracy_score(y_train, y_pred)\n",
    "precision = precision_score(y_train, y_pred)\n",
    "recall = recall_score(y_train, y_pred)\n",
    "f1 = f1_score(y_train, y_pred)\n",
    "roc_auc = roc_auc_score(y_train, y_pred)\n",
    "conf_matrix = confusion_matrix(y_train, y_pred)\n",
    "\n",
    "# Print evaluation metrics\n",
    "print(\"Accuracy:\", accuracy)\n",
    "print(\"Precision:\", precision)\n",
    "print(\"Recall:\", recall)\n",
    "print(\"F1 Score:\", f1)\n",
    "print(\"ROC AUC Score:\", roc_auc)\n",
    "print(\"Confusion Matrix:\\n\", conf_matrix)\n"
   ]
  },
  {
   "cell_type": "markdown",
   "id": "850d5cd3",
   "metadata": {},
   "source": [
    "# Support Vector Machine (SVM) with Cross-Validation"
   ]
  },
  {
   "cell_type": "code",
   "execution_count": 8,
   "id": "fcd12fc1",
   "metadata": {},
   "outputs": [
    {
     "name": "stdout",
     "output_type": "stream",
     "text": [
      "Accuracy: 0.9810809648707915\n",
      "Precision: 0.0\n",
      "Recall: 0.0\n",
      "F1 Score: 0.0\n",
      "ROC AUC Score: 0.5\n",
      "Confusion Matrix:\n",
      " [[22817     0]\n",
      " [  440     0]]\n"
     ]
    },
    {
     "name": "stderr",
     "output_type": "stream",
     "text": [
      "C:\\Users\\Aman ur Rehman\\anaconda3\\lib\\site-packages\\sklearn\\metrics\\_classification.py:1471: UndefinedMetricWarning: Precision is ill-defined and being set to 0.0 due to no predicted samples. Use `zero_division` parameter to control this behavior.\n",
      "  _warn_prf(average, modifier, msg_start, len(result))\n"
     ]
    }
   ],
   "source": [
    "from sklearn.svm import SVC\n",
    "from sklearn.model_selection import cross_val_predict\n",
    "from sklearn.metrics import accuracy_score, precision_score, recall_score, f1_score, roc_auc_score, confusion_matrix\n",
    "\n",
    "# Initialize SVM classifier\n",
    "svm_classifier = SVC()\n",
    "\n",
    "# Perform cross-validation\n",
    "y_pred = cross_val_predict(svm_classifier, X_train, y_train, cv=5)\n",
    "\n",
    "# Calculate evaluation metrics\n",
    "accuracy = accuracy_score(y_train, y_pred)\n",
    "precision = precision_score(y_train, y_pred)\n",
    "recall = recall_score(y_train, y_pred)\n",
    "f1 = f1_score(y_train, y_pred)\n",
    "roc_auc = roc_auc_score(y_train, y_pred)\n",
    "conf_matrix = confusion_matrix(y_train, y_pred)\n",
    "\n",
    "# Print evaluation metrics\n",
    "print(\"Accuracy:\", accuracy)\n",
    "print(\"Precision:\", precision)\n",
    "print(\"Recall:\", recall)\n",
    "print(\"F1 Score:\", f1)\n",
    "print(\"ROC AUC Score:\", roc_auc)\n",
    "print(\"Confusion Matrix:\\n\", conf_matrix)\n"
   ]
  },
  {
   "cell_type": "markdown",
   "id": "b85905db",
   "metadata": {},
   "source": [
    "# Gradient Boosting Machine (XGBoost) with Cross-Validation"
   ]
  },
  {
   "cell_type": "code",
   "execution_count": 9,
   "id": "5a0bbf5b",
   "metadata": {},
   "outputs": [
    {
     "name": "stdout",
     "output_type": "stream",
     "text": [
      "Accuracy: 0.9781141161800748\n",
      "Precision: 0.0\n",
      "Recall: 0.0\n",
      "F1 Score: 0.0\n",
      "ROC AUC Score: 0.4984879694964281\n",
      "Confusion Matrix:\n",
      " [[22748    69]\n",
      " [  440     0]]\n"
     ]
    }
   ],
   "source": [
    "from sklearn.ensemble import GradientBoostingClassifier\n",
    "from sklearn.model_selection import cross_val_predict\n",
    "from sklearn.metrics import accuracy_score, precision_score, recall_score, f1_score, roc_auc_score, confusion_matrix\n",
    "\n",
    "# Initialize Gradient Boosting classifier\n",
    "gb_classifier = GradientBoostingClassifier()\n",
    "\n",
    "# Perform cross-validation\n",
    "y_pred = cross_val_predict(gb_classifier, X_train, y_train, cv=5)\n",
    "\n",
    "# Calculate evaluation metrics\n",
    "accuracy = accuracy_score(y_train, y_pred)\n",
    "precision = precision_score(y_train, y_pred)\n",
    "recall = recall_score(y_train, y_pred)\n",
    "f1 = f1_score(y_train, y_pred)\n",
    "roc_auc = roc_auc_score(y_train, y_pred)\n",
    "conf_matrix = confusion_matrix(y_train, y_pred)\n",
    "\n",
    "# Print evaluation metrics\n",
    "print(\"Accuracy:\", accuracy)\n",
    "print(\"Precision:\", precision)\n",
    "print(\"Recall:\", recall)\n",
    "print(\"F1 Score:\", f1)\n",
    "print(\"ROC AUC Score:\", roc_auc)\n",
    "print(\"Confusion Matrix:\\n\", conf_matrix)\n"
   ]
  },
  {
   "cell_type": "markdown",
   "id": "62e5eae1",
   "metadata": {},
   "source": [
    "\n",
    "# K-Nearest Neighbors (KNN) with Cross-Validation"
   ]
  },
  {
   "cell_type": "code",
   "execution_count": 10,
   "id": "41e50c00",
   "metadata": {},
   "outputs": [
    {
     "name": "stdout",
     "output_type": "stream",
     "text": [
      "Accuracy: 0.9805219933783377\n",
      "Precision: 0.0\n",
      "Recall: 0.0\n",
      "F1 Score: 0.0\n",
      "ROC AUC Score: 0.4997151246877328\n",
      "Confusion Matrix:\n",
      " [[22804    13]\n",
      " [  440     0]]\n"
     ]
    }
   ],
   "source": [
    "from sklearn.neighbors import KNeighborsClassifier\n",
    "from sklearn.model_selection import cross_val_predict\n",
    "from sklearn.metrics import accuracy_score, precision_score, recall_score, f1_score, roc_auc_score, confusion_matrix\n",
    "\n",
    "# Initialize KNN classifier\n",
    "knn_classifier = KNeighborsClassifier()\n",
    "\n",
    "# Perform cross-validation\n",
    "y_pred = cross_val_predict(knn_classifier, X_train, y_train, cv=5)\n",
    "\n",
    "# Calculate evaluation metrics\n",
    "accuracy = accuracy_score(y_train, y_pred)\n",
    "precision = precision_score(y_train, y_pred)\n",
    "recall = recall_score(y_train, y_pred)\n",
    "f1 = f1_score(y_train, y_pred)\n",
    "roc_auc = roc_auc_score(y_train, y_pred)\n",
    "conf_matrix = confusion_matrix(y_train, y_pred)\n",
    "\n",
    "# Print evaluation metrics\n",
    "print(\"Accuracy:\", accuracy)\n",
    "print(\"Precision:\", precision)\n",
    "print(\"Recall:\", recall)\n",
    "print(\"F1 Score:\", f1)\n",
    "print(\"ROC AUC Score:\", roc_auc)\n",
    "print(\"Confusion Matrix:\\n\", conf_matrix)\n"
   ]
  },
  {
   "cell_type": "code",
   "execution_count": null,
   "id": "e42ec343",
   "metadata": {},
   "outputs": [],
   "source": []
  },
  {
   "cell_type": "markdown",
   "id": "9e65fb15",
   "metadata": {},
   "source": [
    "# We will apply SMOTE, One-Class Learning, and Cluster-Based Oversampling—to improve model performance in the face of class imbalance. These will be paired with three machine learning algorithms: Logistic Regression, SVM, and XGBoost."
   ]
  },
  {
   "cell_type": "markdown",
   "id": "2f4aa757",
   "metadata": {},
   "source": [
    "# SMOTE"
   ]
  },
  {
   "cell_type": "markdown",
   "id": "bf9b824d",
   "metadata": {},
   "source": [
    "# Application with Logistic Regression, SVM, and XGBoost:\n"
   ]
  },
  {
   "cell_type": "code",
   "execution_count": 12,
   "id": "ba1ec436",
   "metadata": {},
   "outputs": [
    {
     "name": "stdout",
     "output_type": "stream",
     "text": [
      "Requirement already satisfied: scikit-learn in c:\\users\\aman ur rehman\\anaconda3\\lib\\site-packages (1.3.2)\n",
      "Requirement already satisfied: imbalanced-learn in c:\\users\\aman ur rehman\\anaconda3\\lib\\site-packages (0.12.2)\n",
      "Requirement already satisfied: numpy<2.0,>=1.17.3 in c:\\users\\aman ur rehman\\anaconda3\\lib\\site-packages (from scikit-learn) (1.22.4)\n",
      "Requirement already satisfied: scipy>=1.5.0 in c:\\users\\aman ur rehman\\anaconda3\\lib\\site-packages (from scikit-learn) (1.6.2)\n",
      "Requirement already satisfied: joblib>=1.1.1 in c:\\users\\aman ur rehman\\anaconda3\\lib\\site-packages (from scikit-learn) (1.4.2)\n",
      "Requirement already satisfied: threadpoolctl>=2.0.0 in c:\\users\\aman ur rehman\\anaconda3\\lib\\site-packages (from scikit-learn) (2.1.0)\n"
     ]
    }
   ],
   "source": [
    "!pip install -U scikit-learn imbalanced-learn\n"
   ]
  },
  {
   "cell_type": "code",
   "execution_count": 13,
   "id": "23b11539",
   "metadata": {},
   "outputs": [
    {
     "name": "stdout",
     "output_type": "stream",
     "text": [
      "SMOTE is ready to be used.\n"
     ]
    }
   ],
   "source": [
    "try:\n",
    "    from imblearn.over_sampling import SMOTE\n",
    "    print(\"SMOTE is ready to be used.\")\n",
    "except ImportError as e:\n",
    "    print(\"Failed to import SMOTE:\", e)\n"
   ]
  },
  {
   "cell_type": "markdown",
   "id": "2a242a1c",
   "metadata": {},
   "source": [
    "# Logistic Regression"
   ]
  },
  {
   "cell_type": "code",
   "execution_count": 15,
   "id": "1e178a8c",
   "metadata": {},
   "outputs": [
    {
     "name": "stdout",
     "output_type": "stream",
     "text": [
      "Requirement already satisfied: imbalanced-learn in c:\\users\\aman ur rehman\\anaconda3\\lib\\site-packages (0.12.2)\n",
      "Requirement already satisfied: numpy>=1.17.3 in c:\\users\\aman ur rehman\\anaconda3\\lib\\site-packages (from imbalanced-learn) (1.22.4)\n",
      "Requirement already satisfied: scipy>=1.5.0 in c:\\users\\aman ur rehman\\anaconda3\\lib\\site-packages (from imbalanced-learn) (1.6.2)\n",
      "Requirement already satisfied: scikit-learn>=1.0.2 in c:\\users\\aman ur rehman\\anaconda3\\lib\\site-packages (from imbalanced-learn) (1.3.2)\n",
      "Requirement already satisfied: joblib>=1.1.1 in c:\\users\\aman ur rehman\\anaconda3\\lib\\site-packages (from imbalanced-learn) (1.4.2)\n",
      "Requirement already satisfied: threadpoolctl>=2.0.0 in c:\\users\\aman ur rehman\\anaconda3\\lib\\site-packages (from imbalanced-learn) (2.1.0)\n",
      "Accuracy: 0.7109200343938091\n",
      "Precision: 0.04616272360069244\n",
      "Recall: 0.7407407407407407\n",
      "F1 Score: 0.08690928843020097\n",
      "ROC AUC Score: 0.7255482221313656\n",
      "Confusion Matrix:\n",
      " [[4054 1653]\n",
      " [  28   80]]\n"
     ]
    }
   ],
   "source": [
    "!pip install imbalanced-learn\n",
    "\n",
    "\n",
    "from sklearn.metrics import classification_report\n",
    "\n",
    "from imblearn.over_sampling import SMOTE\n",
    "\n",
    "# Load the PCA-transformed dataset\n",
    "pca_data = pd.read_csv('C:\\\\Users\\\\Aman ur Rehman\\\\Documents\\\\selected_features_mi1.csv')\n",
    "\n",
    "X = pca_data.drop(columns=['stroke'])  \n",
    "y = pca_data['stroke']\n",
    "\n",
    "# Split the data into training and testing sets\n",
    "X_train, X_test, y_train, y_test = train_test_split(X, y, test_size=0.2, random_state=42)\n",
    "\n",
    "# Apply SMOTE to the training data\n",
    "smote = SMOTE(random_state=42)\n",
    "X_train_smote, y_train_smote = smote.fit_resample(X_train, y_train)\n",
    "\n",
    "# Initialize logistic regression classifier\n",
    "logreg_classifier = LogisticRegression()\n",
    "\n",
    "# Fit the logistic regression model on SMOTE-transformed data\n",
    "logreg_classifier.fit(X_train_smote, y_train_smote)\n",
    "\n",
    "# Predict on the test set\n",
    "y_pred = logreg_classifier.predict(X_test)\n",
    "\n",
    "# Calculate evaluation metrics\n",
    "accuracy = accuracy_score(y_test, y_pred)\n",
    "precision = precision_score(y_test, y_pred)\n",
    "recall = recall_score(y_test, y_pred)\n",
    "f1 = f1_score(y_test, y_pred)\n",
    "roc_auc = roc_auc_score(y_test, y_pred)\n",
    "conf_matrix = confusion_matrix(y_test, y_pred)\n",
    "\n",
    "# Print evaluation metrics\n",
    "print(\"Accuracy:\", accuracy)\n",
    "print(\"Precision:\", precision)\n",
    "print(\"Recall:\", recall)\n",
    "print(\"F1 Score:\", f1)\n",
    "print(\"ROC AUC Score:\", roc_auc)\n",
    "print(\"Confusion Matrix:\\n\", conf_matrix)\n",
    "\n"
   ]
  },
  {
   "cell_type": "markdown",
   "id": "5439f815",
   "metadata": {},
   "source": [
    "# SVM"
   ]
  },
  {
   "cell_type": "code",
   "execution_count": 17,
   "id": "987f2299",
   "metadata": {},
   "outputs": [
    {
     "name": "stdout",
     "output_type": "stream",
     "text": [
      "SVM Metrics:\n",
      "Accuracy: 0.7730008598452278\n",
      "Precision: 0.04640718562874251\n",
      "Recall: 0.5740740740740741\n",
      "F1 Score: 0.08587257617728532\n",
      "ROC AUC Score: 0.675419724964144\n",
      "Confusion Matrix:\n",
      " [[4433 1274]\n",
      " [  46   62]]\n"
     ]
    }
   ],
   "source": [
    "from sklearn.svm import SVC\n",
    "\n",
    "\n",
    "\n",
    "# Initialize SVM classifier\n",
    "svm_classifier = SVC()\n",
    "\n",
    "# Fit the SVM model\n",
    "svm_classifier.fit(X_train_smote, y_train_smote)\n",
    "\n",
    "# Predict on the test set\n",
    "y_pred = svm_classifier.predict(X_test)\n",
    "\n",
    "# Calculate evaluation metrics\n",
    "accuracy = accuracy_score(y_test, y_pred)\n",
    "precision = precision_score(y_test, y_pred)\n",
    "recall = recall_score(y_test, y_pred)\n",
    "f1 = f1_score(y_test, y_pred)\n",
    "roc_auc = roc_auc_score(y_test, y_pred)\n",
    "conf_matrix = confusion_matrix(y_test, y_pred)\n",
    "\n",
    "# Print evaluation metrics\n",
    "print(\"SVM Metrics:\")\n",
    "print(\"Accuracy:\", accuracy)\n",
    "print(\"Precision:\", precision)\n",
    "print(\"Recall:\", recall)\n",
    "print(\"F1 Score:\", f1)\n",
    "print(\"ROC AUC Score:\", roc_auc)\n",
    "print(\"Confusion Matrix:\\n\", conf_matrix)\n"
   ]
  },
  {
   "cell_type": "markdown",
   "id": "ed9f4fbe",
   "metadata": {},
   "source": [
    "# XGBOOST"
   ]
  },
  {
   "cell_type": "code",
   "execution_count": 19,
   "id": "ff19338d",
   "metadata": {},
   "outputs": [
    {
     "name": "stdout",
     "output_type": "stream",
     "text": [
      "XGBoost Metrics:\n",
      "Accuracy: 0.8899398108340498\n",
      "Precision: 0.039792387543252594\n",
      "Recall: 0.21296296296296297\n",
      "F1 Score: 0.06705539358600583\n",
      "ROC AUC Score: 0.5578569852487848\n",
      "Confusion Matrix:\n",
      " [[5152  555]\n",
      " [  85   23]]\n"
     ]
    }
   ],
   "source": [
    "from xgboost import XGBClassifier\n",
    "\n",
    "# Initialize XGBoost classifier\n",
    "xgb_classifier = XGBClassifier()\n",
    "\n",
    "# Fit the XGBoost model\n",
    "xgb_classifier.fit(X_train_smote, y_train_smote)\n",
    "\n",
    "# Predict on the test set\n",
    "y_pred = xgb_classifier.predict(X_test)\n",
    "\n",
    "# Calculate evaluation metrics\n",
    "accuracy = accuracy_score(y_test, y_pred)\n",
    "precision = precision_score(y_test, y_pred)\n",
    "recall = recall_score(y_test, y_pred)\n",
    "f1 = f1_score(y_test, y_pred)\n",
    "roc_auc = roc_auc_score(y_test, y_pred)\n",
    "conf_matrix = confusion_matrix(y_test, y_pred)\n",
    "\n",
    "# Print evaluation metrics\n",
    "print(\"XGBoost Metrics:\")\n",
    "print(\"Accuracy:\", accuracy)\n",
    "print(\"Precision:\", precision)\n",
    "print(\"Recall:\", recall)\n",
    "print(\"F1 Score:\", f1)\n",
    "print(\"ROC AUC Score:\", roc_auc)\n",
    "print(\"Confusion Matrix:\\n\", conf_matrix)\n"
   ]
  },
  {
   "cell_type": "markdown",
   "id": "1f0ea570",
   "metadata": {},
   "source": [
    "# One-Class Learning"
   ]
  },
  {
   "cell_type": "code",
   "execution_count": 20,
   "id": "8800c574",
   "metadata": {},
   "outputs": [
    {
     "name": "stdout",
     "output_type": "stream",
     "text": [
      "Isolation Forest Metrics:\n",
      "Accuracy: 0.10266552020636285\n",
      "Precision: 0.014627659574468085\n",
      "Recall: 0.7129629629629629\n",
      "F1 Score: 0.02866716306775875\n",
      "ROC AUC Score: 0.40203956804184593\n",
      "Confusion Matrix:\n",
      " [[ 520 5187]\n",
      " [  31   77]]\n"
     ]
    }
   ],
   "source": [
    "\n",
    "from sklearn.ensemble import IsolationForest\n",
    "\n",
    "\n",
    "\n",
    "# Initialize Isolation Forest classifier\n",
    "isolation_forest = IsolationForest(contamination=0.1, random_state=42)\n",
    "\n",
    "# Fit the Isolation Forest model\n",
    "isolation_forest.fit(X_train)\n",
    "\n",
    "# Predict on the test set\n",
    "y_pred = isolation_forest.predict(X_test)\n",
    "\n",
    "# Convert predictions to binary labels (1 for inliers, -1 for outliers)\n",
    "y_pred_binary = [1 if x == 1 else 0 for x in y_pred]\n",
    "\n",
    "# Calculate evaluation metrics\n",
    "accuracy = accuracy_score(y_test, y_pred_binary)\n",
    "precision = precision_score(y_test, y_pred_binary)\n",
    "recall = recall_score(y_test, y_pred_binary)\n",
    "f1 = f1_score(y_test, y_pred_binary)\n",
    "roc_auc = roc_auc_score(y_test, y_pred_binary)\n",
    "conf_matrix = confusion_matrix(y_test, y_pred_binary)\n",
    "\n",
    "# Print evaluation metrics\n",
    "print(\"Isolation Forest Metrics:\")\n",
    "print(\"Accuracy:\", accuracy)\n",
    "print(\"Precision:\", precision)\n",
    "print(\"Recall:\", recall)\n",
    "print(\"F1 Score:\", f1)\n",
    "print(\"ROC AUC Score:\", roc_auc)\n",
    "print(\"Confusion Matrix:\\n\", conf_matrix)\n"
   ]
  },
  {
   "cell_type": "markdown",
   "id": "ebcb7230",
   "metadata": {},
   "source": [
    "# Logistic Regression with Class Weighting"
   ]
  },
  {
   "cell_type": "code",
   "execution_count": 21,
   "id": "08335f85",
   "metadata": {},
   "outputs": [
    {
     "name": "stdout",
     "output_type": "stream",
     "text": [
      "Logistic Regression Metrics:\n",
      "Accuracy: 0.9590713671539123\n",
      "Precision: 0.10843373493975904\n",
      "Recall: 0.16666666666666666\n",
      "F1 Score: 0.13138686131386862\n",
      "ROC AUC Score: 0.5703668010046142\n",
      "Confusion Matrix:\n",
      " [[5559  148]\n",
      " [  90   18]]\n"
     ]
    }
   ],
   "source": [
    "# Class weights\n",
    "class_weights = {0: 1, 1: 10} \n",
    "\n",
    "# Logistic Regression with class weighting\n",
    "logreg_classifier = LogisticRegression(class_weight=class_weights)\n",
    "logreg_classifier.fit(X_train, y_train)\n",
    "y_pred_logreg = logreg_classifier.predict(X_test)\n",
    "\n",
    "# Evaluation metrics for Logistic Regression\n",
    "accuracy_logreg = accuracy_score(y_test, y_pred_logreg)\n",
    "precision_logreg = precision_score(y_test, y_pred_logreg)\n",
    "recall_logreg = recall_score(y_test, y_pred_logreg)\n",
    "f1_logreg = f1_score(y_test, y_pred_logreg)\n",
    "roc_auc_logreg = roc_auc_score(y_test, y_pred_logreg)\n",
    "conf_matrix_logreg = confusion_matrix(y_test, y_pred_logreg)\n",
    "\n",
    "# Print evaluation metrics for Logistic Regression\n",
    "print(\"Logistic Regression Metrics:\")\n",
    "print(\"Accuracy:\", accuracy_logreg)\n",
    "print(\"Precision:\", precision_logreg)\n",
    "print(\"Recall:\", recall_logreg)\n",
    "print(\"F1 Score:\", f1_logreg)\n",
    "print(\"ROC AUC Score:\", roc_auc_logreg)\n",
    "print(\"Confusion Matrix:\\n\", conf_matrix_logreg)\n"
   ]
  },
  {
   "cell_type": "markdown",
   "id": "17cf9d58",
   "metadata": {},
   "source": [
    "# Support Vector Machine (SVM) with Class Weighting"
   ]
  },
  {
   "cell_type": "code",
   "execution_count": 22,
   "id": "b1d4f9cf",
   "metadata": {},
   "outputs": [
    {
     "name": "stdout",
     "output_type": "stream",
     "text": [
      "SVM Metrics:\n",
      "Accuracy: 0.9649183147033534\n",
      "Precision: 0.07142857142857142\n",
      "Recall: 0.07407407407407407\n",
      "F1 Score: 0.07272727272727272\n",
      "ROC AUC Score: 0.5279254197249641\n",
      "Confusion Matrix:\n",
      " [[5603  104]\n",
      " [ 100    8]]\n"
     ]
    }
   ],
   "source": [
    "\n",
    "# SVM with class weighting\n",
    "svm_classifier = SVC(class_weight=class_weights)\n",
    "svm_classifier.fit(X_train, y_train)\n",
    "y_pred_svm = svm_classifier.predict(X_test)\n",
    "\n",
    "# Evaluation metrics for SVM\n",
    "accuracy_svm = accuracy_score(y_test, y_pred_svm)\n",
    "precision_svm = precision_score(y_test, y_pred_svm)\n",
    "recall_svm = recall_score(y_test, y_pred_svm)\n",
    "f1_svm = f1_score(y_test, y_pred_svm)\n",
    "roc_auc_svm = roc_auc_score(y_test, y_pred_svm)\n",
    "conf_matrix_svm = confusion_matrix(y_test, y_pred_svm)\n",
    "\n",
    "# Print evaluation metrics for SVM\n",
    "print(\"SVM Metrics:\")\n",
    "print(\"Accuracy:\", accuracy_svm)\n",
    "print(\"Precision:\", precision_svm)\n",
    "print(\"Recall:\", recall_svm)\n",
    "print(\"F1 Score:\", f1_svm)\n",
    "print(\"ROC AUC Score:\", roc_auc_svm)\n",
    "print(\"Confusion Matrix:\\n\", conf_matrix_svm)\n"
   ]
  },
  {
   "cell_type": "markdown",
   "id": "6f053690",
   "metadata": {},
   "source": [
    "# Random Forest with Class Weighting"
   ]
  },
  {
   "cell_type": "code",
   "execution_count": 23,
   "id": "20591a58",
   "metadata": {},
   "outputs": [
    {
     "name": "stdout",
     "output_type": "stream",
     "text": [
      "Random Forest Metrics:\n",
      "Accuracy: 0.9812553740326742\n",
      "Precision: 0.0\n",
      "Recall: 0.0\n",
      "F1 Score: 0.0\n",
      "ROC AUC Score: 0.4999123882950762\n",
      "Confusion Matrix:\n",
      " [[5706    1]\n",
      " [ 108    0]]\n"
     ]
    }
   ],
   "source": [
    "rf_classifier = RandomForestClassifier(class_weight=class_weights, random_state=42)\n",
    "rf_classifier.fit(X_train, y_train)\n",
    "y_pred_rf = rf_classifier.predict(X_test)\n",
    "\n",
    "# Evaluation metrics for Random Forest\n",
    "accuracy_rf = accuracy_score(y_test, y_pred_rf)\n",
    "precision_rf = precision_score(y_test, y_pred_rf)\n",
    "recall_rf = recall_score(y_test, y_pred_rf)\n",
    "f1_rf = f1_score(y_test, y_pred_rf)\n",
    "roc_auc_rf = roc_auc_score(y_test, y_pred_rf)\n",
    "conf_matrix_rf = confusion_matrix(y_test, y_pred_rf)\n",
    "\n",
    "# Print evaluation metrics for Random Forest\n",
    "print(\"Random Forest Metrics:\")\n",
    "print(\"Accuracy:\", accuracy_rf)\n",
    "print(\"Precision:\", precision_rf)\n",
    "print(\"Recall:\", recall_rf)\n",
    "print(\"F1 Score:\", f1_rf)\n",
    "print(\"ROC AUC Score:\", roc_auc_rf)\n",
    "print(\"Confusion Matrix:\\n\", conf_matrix_rf)"
   ]
  },
  {
   "cell_type": "markdown",
   "id": "5e6448f1",
   "metadata": {},
   "source": [
    "## Pipeline for comparing baseline model after feature selection."
   ]
  },
  {
   "cell_type": "code",
   "execution_count": 2,
   "id": "19e0577e",
   "metadata": {},
   "outputs": [
    {
     "name": "stderr",
     "output_type": "stream",
     "text": [
      "C:\\Users\\Aman ur Rehman\\anaconda3\\lib\\site-packages\\sklearn\\metrics\\_classification.py:1471: UndefinedMetricWarning: Precision is ill-defined and being set to 0.0 in labels with no predicted samples. Use `zero_division` parameter to control this behavior.\n",
      "  _warn_prf(average, modifier, msg_start, len(result))\n",
      "C:\\Users\\Aman ur Rehman\\anaconda3\\lib\\site-packages\\sklearn\\metrics\\_classification.py:1471: UndefinedMetricWarning: Precision is ill-defined and being set to 0.0 in labels with no predicted samples. Use `zero_division` parameter to control this behavior.\n",
      "  _warn_prf(average, modifier, msg_start, len(result))\n",
      "C:\\Users\\Aman ur Rehman\\anaconda3\\lib\\site-packages\\sklearn\\metrics\\_classification.py:1471: UndefinedMetricWarning: Precision is ill-defined and being set to 0.0 in labels with no predicted samples. Use `zero_division` parameter to control this behavior.\n",
      "  _warn_prf(average, modifier, msg_start, len(result))\n",
      "C:\\Users\\Aman ur Rehman\\anaconda3\\lib\\site-packages\\sklearn\\metrics\\_classification.py:1471: UndefinedMetricWarning: Precision is ill-defined and being set to 0.0 in labels with no predicted samples. Use `zero_division` parameter to control this behavior.\n",
      "  _warn_prf(average, modifier, msg_start, len(result))\n",
      "C:\\Users\\Aman ur Rehman\\anaconda3\\lib\\site-packages\\sklearn\\metrics\\_classification.py:1471: UndefinedMetricWarning: Precision is ill-defined and being set to 0.0 in labels with no predicted samples. Use `zero_division` parameter to control this behavior.\n",
      "  _warn_prf(average, modifier, msg_start, len(result))\n",
      "C:\\Users\\Aman ur Rehman\\anaconda3\\lib\\site-packages\\sklearn\\metrics\\_classification.py:1471: UndefinedMetricWarning: Precision is ill-defined and being set to 0.0 in labels with no predicted samples. Use `zero_division` parameter to control this behavior.\n",
      "  _warn_prf(average, modifier, msg_start, len(result))\n",
      "C:\\Users\\Aman ur Rehman\\anaconda3\\lib\\site-packages\\sklearn\\metrics\\_classification.py:1471: UndefinedMetricWarning: Precision is ill-defined and being set to 0.0 in labels with no predicted samples. Use `zero_division` parameter to control this behavior.\n",
      "  _warn_prf(average, modifier, msg_start, len(result))\n",
      "C:\\Users\\Aman ur Rehman\\anaconda3\\lib\\site-packages\\sklearn\\metrics\\_classification.py:1471: UndefinedMetricWarning: Precision is ill-defined and being set to 0.0 in labels with no predicted samples. Use `zero_division` parameter to control this behavior.\n",
      "  _warn_prf(average, modifier, msg_start, len(result))\n",
      "C:\\Users\\Aman ur Rehman\\anaconda3\\lib\\site-packages\\sklearn\\metrics\\_classification.py:1471: UndefinedMetricWarning: Precision is ill-defined and being set to 0.0 in labels with no predicted samples. Use `zero_division` parameter to control this behavior.\n",
      "  _warn_prf(average, modifier, msg_start, len(result))\n",
      "C:\\Users\\Aman ur Rehman\\anaconda3\\lib\\site-packages\\sklearn\\metrics\\_classification.py:1471: UndefinedMetricWarning: Precision is ill-defined and being set to 0.0 in labels with no predicted samples. Use `zero_division` parameter to control this behavior.\n",
      "  _warn_prf(average, modifier, msg_start, len(result))\n",
      "C:\\Users\\Aman ur Rehman\\anaconda3\\lib\\site-packages\\sklearn\\metrics\\_classification.py:1471: UndefinedMetricWarning: Precision is ill-defined and being set to 0.0 in labels with no predicted samples. Use `zero_division` parameter to control this behavior.\n",
      "  _warn_prf(average, modifier, msg_start, len(result))\n",
      "C:\\Users\\Aman ur Rehman\\anaconda3\\lib\\site-packages\\sklearn\\metrics\\_classification.py:1471: UndefinedMetricWarning: Precision is ill-defined and being set to 0.0 in labels with no predicted samples. Use `zero_division` parameter to control this behavior.\n",
      "  _warn_prf(average, modifier, msg_start, len(result))\n",
      "C:\\Users\\Aman ur Rehman\\anaconda3\\lib\\site-packages\\sklearn\\metrics\\_classification.py:1471: UndefinedMetricWarning: Precision is ill-defined and being set to 0.0 in labels with no predicted samples. Use `zero_division` parameter to control this behavior.\n",
      "  _warn_prf(average, modifier, msg_start, len(result))\n"
     ]
    },
    {
     "name": "stdout",
     "output_type": "stream",
     "text": [
      "\n",
      "Classifier: Random Forest\n",
      "accuracy: 0.9810 (std: 0.0003)\n",
      "precision: 0.9627 (std: 0.0002)\n",
      "recall: 0.9810 (std: 0.0003)\n",
      "f1: 0.9717 (std: 0.0002)\n",
      "roc_auc: 0.4999 (std: 0.0001)\n",
      "\n",
      "Classifier: Logistic Regression\n",
      "accuracy: 0.9812 (std: 0.0001)\n",
      "precision: 0.9627 (std: 0.0002)\n",
      "recall: 0.9812 (std: 0.0001)\n",
      "f1: 0.9718 (std: 0.0001)\n",
      "roc_auc: 0.5000 (std: 0.0000)\n",
      "\n",
      "Classifier: Support Vector Machine\n",
      "accuracy: 0.9812 (std: 0.0001)\n",
      "precision: 0.9627 (std: 0.0002)\n",
      "recall: 0.9812 (std: 0.0001)\n",
      "f1: 0.9718 (std: 0.0001)\n",
      "roc_auc: 0.5000 (std: 0.0000)\n",
      "\n",
      "Classifier: XGBoost\n",
      "accuracy: 0.9801 (std: 0.0003)\n",
      "precision: 0.9637 (std: 0.0015)\n",
      "recall: 0.9801 (std: 0.0003)\n",
      "f1: 0.9714 (std: 0.0003)\n",
      "roc_auc: 0.5012 (std: 0.0022)\n",
      "\n",
      "Classifier: K-Nearest Neighbors\n",
      "accuracy: 0.9809 (std: 0.0001)\n",
      "precision: 0.9627 (std: 0.0002)\n",
      "recall: 0.9809 (std: 0.0001)\n",
      "f1: 0.9717 (std: 0.0001)\n",
      "roc_auc: 0.4999 (std: 0.0000)\n"
     ]
    }
   ],
   "source": [
    "\n",
    "from sklearn.pipeline import Pipeline\n",
    "from sklearn.metrics import make_scorer, roc_auc_score\n",
    "from sklearn.preprocessing import StandardScaler\n",
    "from sklearn.model_selection import cross_validate\n",
    "\n",
    "data = pd.read_csv('C:\\\\Users\\\\Aman ur Rehman\\\\Documents\\\\selected_features_mi1.csv')\n",
    "\n",
    "X = data.drop(columns=['stroke'])\n",
    "y = data['stroke']\n",
    "\n",
    "classifiers = {\n",
    "    'Random Forest': RandomForestClassifier(),\n",
    "    'Logistic Regression': LogisticRegression(max_iter=1000),\n",
    "    'Support Vector Machine': SVC(probability=True),\n",
    "    'XGBoost': XGBClassifier(eval_metric='logloss'),\n",
    "    'K-Nearest Neighbors': KNeighborsClassifier()\n",
    "}\n",
    "\n",
    "scoring = {\n",
    "    'accuracy': 'accuracy',\n",
    "    'precision': make_scorer(precision_score, average='weighted'),\n",
    "    'recall': make_scorer(recall_score, average='weighted'),\n",
    "    'f1': make_scorer(f1_score, average='weighted'),\n",
    "    'roc_auc': make_scorer(roc_auc_score, average='weighted')\n",
    "}\n",
    "\n",
    "pipelines = {}\n",
    "for name, clf in classifiers.items():\n",
    "    if name in ['Support Vector Machine', 'Logistic Regression', 'K-Nearest Neighbors']:\n",
    "        # SVM, Logistic Regression, and KNN require feature scaling\n",
    "        pipelines[name] = Pipeline([\n",
    "            ('scaler', StandardScaler()),\n",
    "            ('classifier', clf)\n",
    "        ])\n",
    "    else:\n",
    "        pipelines[name] = Pipeline([\n",
    "            ('classifier', clf)\n",
    "        ])\n",
    "\n",
    "# cross-validation\n",
    "results = {}\n",
    "for name, pipeline in pipelines.items():\n",
    "    cv_results = cross_validate(pipeline, X, y, cv=5, scoring=scoring, return_train_score=False)\n",
    "    results[name] = cv_results\n",
    "\n",
    "# Print average scores for each classifier\n",
    "for name, scores in results.items():\n",
    "    print(f\"\\nClassifier: {name}\")\n",
    "    for metric in scoring:\n",
    "        print(f\"{metric}: {np.mean(scores['test_' + metric]):.4f} (std: {np.std(scores['test_' + metric]):.4f})\")\n"
   ]
  },
  {
   "cell_type": "code",
   "execution_count": 3,
   "id": "38f8d2f4",
   "metadata": {},
   "outputs": [
    {
     "data": {
      "image/png": "[encoded data removed]",
      "text/plain": [
       "<Figure size 720x576 with 1 Axes>"
      ]
     },
     "metadata": {
      "needs_background": "light"
     },
     "output_type": "display_data"
    }
   ],
   "source": [
    "\n",
    "\n",
    "# Split the data into training and testing sets\n",
    "X_train, X_test, y_train, y_test = train_test_split(X, y, test_size=0.2, random_state=42, stratify=y)\n",
    "\n",
    "# Fit and plot ROC AUC curves for each classifier\n",
    "plt.figure(figsize=(10, 8))\n",
    "\n",
    "for name, pipeline in pipelines.items():\n",
    "    # Fit the model on the training data\n",
    "    pipeline.fit(X_train, y_train)\n",
    "    \n",
    "    # Predict probabilities on the test data\n",
    "    y_pred_proba = pipeline.predict_proba(X_test)[:, 1]\n",
    "    \n",
    "    # Compute ROC curve and ROC AUC\n",
    "    fpr, tpr, _ = roc_curve(y_test, y_pred_proba)\n",
    "    roc_auc = auc(fpr, tpr)\n",
    "    \n",
    "    # Plot the ROC curve\n",
    "    plt.plot(fpr, tpr, label=f'{name} (AUC = {roc_auc:.2f})')\n",
    "\n",
    "# Plot settings\n",
    "plt.plot([0, 1], [0, 1], 'k--', lw=2)\n",
    "plt.xlim([0.0, 1.0])\n",
    "plt.ylim([0.0, 1.05])\n",
    "plt.xlabel('False Positive Rate')\n",
    "plt.ylabel('True Positive Rate')\n",
    "plt.title('ROC AUC Curves')\n",
    "plt.legend(loc='lower right')\n",
    "plt.show()\n"
   ]
  },
  {
   "cell_type": "markdown",
   "id": "f2f9f546",
   "metadata": {},
   "source": [
    "The ROC AUC values being close to 0.5 suggest that the classifiers might not be effectively distinguishing between the positive and negative classes. This could be due to class imbalance or other issues in the data.\n",
    "The very high and similar accuracy, precision, recall, and F1-scores indicate that the classifiers are performing similarly well on the dataset."
   ]
  },
  {
   "cell_type": "markdown",
   "id": "f4bff7fe",
   "metadata": {},
   "source": [
    "## Pipeline for comparing  model after feature selection and class imbalance algorithms."
   ]
  },
  {
   "cell_type": "code",
   "execution_count": 1,
   "id": "f7c50408",
   "metadata": {},
   "outputs": [],
   "source": [
    "import pandas as pd\n",
    "import numpy as np\n",
    "from sklearn.pipeline import Pipeline\n",
    "from sklearn.metrics import precision_score, recall_score, f1_score, roc_auc_score, make_scorer\n",
    "from sklearn.preprocessing import StandardScaler\n",
    "from sklearn.model_selection import cross_validate, train_test_split\n",
    "from sklearn.ensemble import RandomForestClassifier\n",
    "from sklearn.linear_model import LogisticRegression\n",
    "from sklearn.svm import SVC\n",
    "from xgboost import XGBClassifier\n",
    "from sklearn.neighbors import KNeighborsClassifier\n",
    "import matplotlib.pyplot as plt\n",
    "from sklearn.metrics import roc_curve, auc\n",
    "\n"
   ]
  },
  {
   "cell_type": "code",
   "execution_count": 2,
   "id": "5538baa2",
   "metadata": {},
   "outputs": [],
   "source": [
    "from imblearn.over_sampling import SMOTE\n",
    "from imblearn.pipeline import Pipeline as ImbPipeline"
   ]
  },
  {
   "cell_type": "code",
   "execution_count": 3,
   "id": "57d0457c",
   "metadata": {},
   "outputs": [],
   "source": [
    "data = pd.read_csv('C:\\\\Users\\\\Aman ur Rehman\\\\Documents\\\\selected_features_mi1.csv')\n",
    "\n",
    "X = data.drop(columns=['stroke'])\n",
    "y = data['stroke']\n"
   ]
  },
  {
   "cell_type": "code",
   "execution_count": 4,
   "id": "75ef2e0e",
   "metadata": {},
   "outputs": [],
   "source": [
    "# Split the data into training and testing sets\n",
    "X_train, X_test, y_train, y_test = train_test_split(X, y, test_size=0.2, random_state=42, stratify=y)\n"
   ]
  },
  {
   "cell_type": "code",
   "execution_count": 6,
   "id": "5354d719",
   "metadata": {},
   "outputs": [],
   "source": [
    "classifiers = {\n",
    "    'Random Forest': RandomForestClassifier(),\n",
    "    'Logistic Regression': LogisticRegression(max_iter=1000),\n",
    "    'Support Vector Machine': SVC(probability=True),\n",
    "    'XGBoost': XGBClassifier(eval_metric='logloss'),\n",
    "    'K-Nearest Neighbors': KNeighborsClassifier()\n",
    "}\n",
    "\n",
    "scoring = {\n",
    "    'accuracy': 'accuracy',\n",
    "    'precision': make_scorer(precision_score, average='weighted'),\n",
    "    'recall': make_scorer(recall_score, average='weighted'),\n",
    "    'f1': make_scorer(f1_score, average='weighted'),\n",
    "    'roc_auc': make_scorer(roc_auc_score, average='weighted')\n",
    "}"
   ]
  },
  {
   "cell_type": "markdown",
   "id": "945232d3",
   "metadata": {},
   "source": [
    "## Smote pipeline"
   ]
  },
  {
   "cell_type": "code",
   "execution_count": 7,
   "id": "b0fa3943",
   "metadata": {},
   "outputs": [],
   "source": [
    "pipelines_smote = {}\n",
    "for name, clf in classifiers.items():\n",
    "    if name in ['Support Vector Machine', 'Logistic Regression', 'K-Nearest Neighbors']:\n",
    "        pipelines_smote[name + ' (SMOTE)'] = ImbPipeline([\n",
    "            ('scaler', StandardScaler()),\n",
    "            ('smote', SMOTE(random_state=42)),\n",
    "            ('classifier', clf)\n",
    "        ])\n",
    "    else:\n",
    "        pipelines_smote[name + ' (SMOTE)'] = ImbPipeline([\n",
    "            ('smote', SMOTE(random_state=42)),\n",
    "            ('classifier', clf)\n",
    "        ])\n"
   ]
  },
  {
   "cell_type": "markdown",
   "id": "10e79936",
   "metadata": {},
   "source": [
    "## Class weight pipeline"
   ]
  },
  {
   "cell_type": "code",
   "execution_count": 8,
   "id": "c0f79a5e",
   "metadata": {},
   "outputs": [],
   "source": [
    "class_weights = {0: 1, 1: 10}  \n",
    "pipelines_class_weight = {\n",
    "    'Random Forest (Class Weight)': RandomForestClassifier(class_weight=class_weights, random_state=42),\n",
    "    'Logistic Regression (Class Weight)': LogisticRegression(class_weight=class_weights, max_iter=1000),\n",
    "    'Support Vector Machine (Class Weight)': SVC(class_weight=class_weights, probability=True)\n",
    "}\n"
   ]
  },
  {
   "cell_type": "code",
   "execution_count": 9,
   "id": "9f77d37d",
   "metadata": {},
   "outputs": [],
   "source": [
    "all_pipelines = {**pipelines_smote, **pipelines_class_weight}\n"
   ]
  },
  {
   "cell_type": "code",
   "execution_count": 10,
   "id": "35638cbe",
   "metadata": {},
   "outputs": [
    {
     "name": "stderr",
     "output_type": "stream",
     "text": [
      "C:\\Users\\Aman ur Rehman\\anaconda3\\lib\\site-packages\\sklearn\\metrics\\_classification.py:1471: UndefinedMetricWarning: Precision is ill-defined and being set to 0.0 in labels with no predicted samples. Use `zero_division` parameter to control this behavior.\n",
      "  _warn_prf(average, modifier, msg_start, len(result))\n"
     ]
    },
    {
     "name": "stdout",
     "output_type": "stream",
     "text": [
      "\n",
      "Classifier: Random Forest (SMOTE)\n",
      "accuracy: 0.9418 (std: 0.0021)\n",
      "precision: 0.9655 (std: 0.0010)\n",
      "recall: 0.9418 (std: 0.0021)\n",
      "f1: 0.9532 (std: 0.0015)\n",
      "roc_auc: 0.5471 (std: 0.0194)\n",
      "\n",
      "Classifier: Logistic Regression (SMOTE)\n",
      "accuracy: 0.7249 (std: 0.0065)\n",
      "precision: 0.9746 (std: 0.0010)\n",
      "recall: 0.7249 (std: 0.0065)\n",
      "f1: 0.8238 (std: 0.0045)\n",
      "roc_auc: 0.7183 (std: 0.0181)\n",
      "\n",
      "Classifier: Support Vector Machine (SMOTE)\n",
      "accuracy: 0.7815 (std: 0.0063)\n",
      "precision: 0.9717 (std: 0.0007)\n",
      "recall: 0.7815 (std: 0.0063)\n",
      "f1: 0.8610 (std: 0.0040)\n",
      "roc_auc: 0.6739 (std: 0.0145)\n",
      "\n",
      "Classifier: XGBoost (SMOTE)\n",
      "accuracy: 0.8874 (std: 0.0024)\n",
      "precision: 0.9676 (std: 0.0010)\n",
      "recall: 0.8874 (std: 0.0024)\n",
      "f1: 0.9239 (std: 0.0014)\n",
      "roc_auc: 0.5963 (std: 0.0195)\n",
      "\n",
      "Classifier: K-Nearest Neighbors (SMOTE)\n",
      "accuracy: 0.8832 (std: 0.0025)\n",
      "precision: 0.9665 (std: 0.0009)\n",
      "recall: 0.8832 (std: 0.0025)\n",
      "f1: 0.9214 (std: 0.0015)\n",
      "roc_auc: 0.5736 (std: 0.0177)\n",
      "\n",
      "Classifier: Random Forest (Class Weight)\n",
      "accuracy: 0.9810 (std: 0.0001)\n",
      "precision: 0.9627 (std: 0.0002)\n",
      "recall: 0.9810 (std: 0.0001)\n",
      "f1: 0.9717 (std: 0.0001)\n",
      "roc_auc: 0.4999 (std: 0.0000)\n",
      "\n",
      "Classifier: Logistic Regression (Class Weight)\n",
      "accuracy: 0.9570 (std: 0.0014)\n",
      "precision: 0.9665 (std: 0.0005)\n",
      "recall: 0.9570 (std: 0.0014)\n",
      "f1: 0.9616 (std: 0.0008)\n",
      "roc_auc: 0.5575 (std: 0.0079)\n",
      "\n",
      "Classifier: Support Vector Machine (Class Weight)\n",
      "accuracy: 0.9643 (std: 0.0013)\n",
      "precision: 0.9668 (std: 0.0003)\n",
      "recall: 0.9643 (std: 0.0013)\n",
      "f1: 0.9655 (std: 0.0006)\n",
      "roc_auc: 0.5549 (std: 0.0030)\n"
     ]
    }
   ],
   "source": [
    "results = {}\n",
    "for name, pipeline in all_pipelines.items():\n",
    "    cv_results = cross_validate(pipeline, X, y, cv=5, scoring=scoring, return_train_score=False)\n",
    "    results[name] = cv_results\n",
    "\n",
    "# Print average scores for each classifier\n",
    "for name, scores in results.items():\n",
    "    print(f\"\\nClassifier: {name}\")\n",
    "    for metric in scoring:\n",
    "        print(f\"{metric}: {np.mean(scores['test_' + metric]):.4f} (std: {np.std(scores['test_' + metric]):.4f})\")\n"
   ]
  },
  {
   "cell_type": "code",
   "execution_count": null,
   "id": "b335e0f9",
   "metadata": {},
   "outputs": [],
   "source": [
    "\n"
   ]
  },
  {
   "cell_type": "code",
   "execution_count": null,
   "id": "f0d384b2",
   "metadata": {},
   "outputs": [],
   "source": []
  }
 ],
 "metadata": {
  "kernelspec": {
   "display_name": "Python 3 (ipykernel)",
   "language": "python",
   "name": "python3"
  },
  "language_info": {
   "codemirror_mode": {
    "name": "ipython",
    "version": 3
   },
   "file_extension": ".py",
   "mimetype": "text/x-python",
   "name": "python",
   "nbconvert_exporter": "python",
   "pygments_lexer": "ipython3",
   "version": "3.11.5"
  }
 },
 "nbformat": 4,
 "nbformat_minor": 5
}
